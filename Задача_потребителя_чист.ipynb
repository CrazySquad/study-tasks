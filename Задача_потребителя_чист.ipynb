{
 "cells": [
  {
   "cell_type": "markdown",
   "metadata": {
    "colab_type": "text",
    "id": "0f6_Yw5QvXG6"
   },
   "source": [
    "# Задача потребителя"
   ]
  },
  {
   "cell_type": "markdown",
   "metadata": {
    "colab_type": "text",
    "id": "RHpLOxs_vk0G"
   },
   "source": [
    "## Получение данных"
   ]
  },
  {
   "cell_type": "markdown",
   "metadata": {
    "colab_type": "text",
    "id": "47i-wiPVRmPF"
   },
   "source": [
    "Параметры модулирования:\n",
    "\n",
    "\n",
    ">  Станция\n",
    "    Novosibirsk(MRK)\n",
    "    \n",
    "    X\n",
    "    452.28865\n",
    "    Y\n",
    "    3635.913158\n",
    "    Z\n",
    "    5203.397861\n",
    "\n",
    ">  Спутники\n",
    "\n",
    "*   1. 1/2\n",
    "*   2. 2/1\n",
    "*   3. 3/12\n",
    "*   4. 4/6\n"
   ]
  },
  {
   "cell_type": "code",
   "execution_count": 0,
   "metadata": {
    "colab": {},
    "colab_type": "code",
    "id": "FEfnQS29whZ8"
   },
   "outputs": [],
   "source": [
    "import numpy as np\n",
    "import pandas as pd\n",
    "from scipy.optimize import fsolve"
   ]
  },
  {
   "cell_type": "code",
   "execution_count": 0,
   "metadata": {
    "colab": {},
    "colab_type": "code",
    "id": "VC4RFr2Lw1PZ"
   },
   "outputs": [],
   "source": [
    " required_coordinates = np.array([\n",
    "        452.28865,\n",
    "        3635.913158,\n",
    "        5203.397861,\n",
    " ])"
   ]
  },
  {
   "cell_type": "code",
   "execution_count": 3,
   "metadata": {
    "colab": {
     "base_uri": "https://localhost:8080/",
     "height": 93,
     "resources": {
      "http://localhost:8080/nbextensions/google.colab/files.js": {
       "data": "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",
       "headers": [
        [
         "content-type",
         "application/javascript"
        ]
       ],
       "ok": true,
       "status": 200,
       "status_text": ""
      }
     }
    },
    "colab_type": "code",
    "id": "nLA6G8tmTyup",
    "outputId": "57165045-b258-40d4-de85-ffcd998e06e8"
   },
   "outputs": [
    {
     "data": {
      "text/html": [
       "\n",
       "     <input type=\"file\" id=\"files-37645299-caf7-4086-9670-2f7bd6804d0e\" name=\"files[]\" multiple disabled />\n",
       "     <output id=\"result-37645299-caf7-4086-9670-2f7bd6804d0e\">\n",
       "      Upload widget is only available when the cell has been executed in the\n",
       "      current browser session. Please rerun this cell to enable.\n",
       "      </output>\n",
       "      <script src=\"/nbextensions/google.colab/files.js\"></script> "
      ],
      "text/plain": [
       "<IPython.core.display.HTML object>"
      ]
     },
     "metadata": {
      "tags": []
     },
     "output_type": "display_data"
    },
    {
     "name": "stdout",
     "output_type": "stream",
     "text": [
      "Saving reports.xls to reports.xls\n",
      "Загруженный \"reports.xls\" размером 306688 байт\n"
     ]
    }
   ],
   "source": [
    "from google.colab import files\n",
    "\n",
    "uploaded = files.upload()\n",
    "\n",
    "for fn in uploaded.keys():\n",
    "  print('Загруженный \"{name}\" размером {length} байт'.format(\n",
    "      name=fn, length=len(uploaded[fn])))"
   ]
  },
  {
   "cell_type": "code",
   "execution_count": 4,
   "metadata": {
    "colab": {
     "base_uri": "https://localhost:8080/",
     "height": 195
    },
    "colab_type": "code",
    "id": "XYp3Y-GbUrrO",
    "outputId": "dcc4d4a8-b2e8-4224-ca05-ea990082d980"
   },
   "outputs": [
    {
     "data": {
      "text/html": [
       "<div>\n",
       "<style scoped>\n",
       "    .dataframe tbody tr th:only-of-type {\n",
       "        vertical-align: middle;\n",
       "    }\n",
       "\n",
       "    .dataframe tbody tr th {\n",
       "        vertical-align: top;\n",
       "    }\n",
       "\n",
       "    .dataframe thead th {\n",
       "        text-align: right;\n",
       "    }\n",
       "</style>\n",
       "<table border=\"1\" class=\"dataframe\">\n",
       "  <thead>\n",
       "    <tr style=\"text-align: right;\">\n",
       "      <th></th>\n",
       "      <th>Time_mom</th>\n",
       "      <th>N_Sat</th>\n",
       "      <th>P1</th>\n",
       "      <th>Sat_X</th>\n",
       "      <th>Sat_Y</th>\n",
       "      <th>Sat_Z</th>\n",
       "    </tr>\n",
       "  </thead>\n",
       "  <tbody>\n",
       "    <tr>\n",
       "      <th>0</th>\n",
       "      <td>01:47:00</td>\n",
       "      <td>1</td>\n",
       "      <td>23640.463423</td>\n",
       "      <td>-1403.143993</td>\n",
       "      <td>25077.821790</td>\n",
       "      <td>-4577.880104</td>\n",
       "    </tr>\n",
       "    <tr>\n",
       "      <th>1</th>\n",
       "      <td>01:47:30</td>\n",
       "      <td>1</td>\n",
       "      <td>23614.250832</td>\n",
       "      <td>-1400.494773</td>\n",
       "      <td>25096.862175</td>\n",
       "      <td>-4472.742878</td>\n",
       "    </tr>\n",
       "    <tr>\n",
       "      <th>2</th>\n",
       "      <td>01:48:00</td>\n",
       "      <td>1</td>\n",
       "      <td>23588.052424</td>\n",
       "      <td>-1397.739724</td>\n",
       "      <td>25115.469797</td>\n",
       "      <td>-4367.509327</td>\n",
       "    </tr>\n",
       "    <tr>\n",
       "      <th>3</th>\n",
       "      <td>01:48:30</td>\n",
       "      <td>1</td>\n",
       "      <td>23561.868740</td>\n",
       "      <td>-1394.880788</td>\n",
       "      <td>25133.643881</td>\n",
       "      <td>-4262.181717</td>\n",
       "    </tr>\n",
       "    <tr>\n",
       "      <th>4</th>\n",
       "      <td>01:49:00</td>\n",
       "      <td>1</td>\n",
       "      <td>23535.700307</td>\n",
       "      <td>-1391.919910</td>\n",
       "      <td>25151.383669</td>\n",
       "      <td>-4156.762322</td>\n",
       "    </tr>\n",
       "  </tbody>\n",
       "</table>\n",
       "</div>"
      ],
      "text/plain": [
       "   Time_mom  N_Sat            P1        Sat_X         Sat_Y        Sat_Z\n",
       "0  01:47:00      1  23640.463423 -1403.143993  25077.821790 -4577.880104\n",
       "1  01:47:30      1  23614.250832 -1400.494773  25096.862175 -4472.742878\n",
       "2  01:48:00      1  23588.052424 -1397.739724  25115.469797 -4367.509327\n",
       "3  01:48:30      1  23561.868740 -1394.880788  25133.643881 -4262.181717\n",
       "4  01:49:00      1  23535.700307 -1391.919910  25151.383669 -4156.762322"
      ]
     },
     "execution_count": 4,
     "metadata": {
      "tags": []
     },
     "output_type": "execute_result"
    }
   ],
   "source": [
    "mod_data = pd.read_excel(\"reports.xls\")\n",
    "mod_data.head()"
   ]
  },
  {
   "cell_type": "code",
   "execution_count": 5,
   "metadata": {
    "colab": {
     "base_uri": "https://localhost:8080/",
     "height": 34
    },
    "colab_type": "code",
    "id": "GevbAqjShGF1",
    "outputId": "3cab3597-ec18-45e4-b265-22435083c93d"
   },
   "outputs": [
    {
     "data": {
      "text/plain": [
       "405"
      ]
     },
     "execution_count": 5,
     "metadata": {
      "tags": []
     },
     "output_type": "execute_result"
    }
   ],
   "source": [
    "by_time = mod_data.groupby(by='Time_mom')['N_Sat'].count() \n",
    "observed_more_than_two = by_time[by_time>2]\n",
    "len(observed_more_than_two)"
   ]
  },
  {
   "cell_type": "code",
   "execution_count": 6,
   "metadata": {
    "colab": {
     "base_uri": "https://localhost:8080/",
     "height": 34
    },
    "colab_type": "code",
    "id": "RnotJu1xouS-",
    "outputId": "b293509f-0ef1-4a3f-84b7-55e81373e2f7"
   },
   "outputs": [
    {
     "data": {
      "text/plain": [
       "0"
      ]
     },
     "execution_count": 6,
     "metadata": {
      "tags": []
     },
     "output_type": "execute_result"
    }
   ],
   "source": [
    "len(observed_more_than_two[observed_more_than_two>3])   # одновременно 4 никогда не наблюдаются"
   ]
  },
  {
   "cell_type": "code",
   "execution_count": 7,
   "metadata": {
    "colab": {
     "base_uri": "https://localhost:8080/",
     "height": 136
    },
    "colab_type": "code",
    "id": "XVQTWlvFyWIS",
    "outputId": "8744e4b9-b346-4e08-c36a-7a8627c73d9c"
   },
   "outputs": [
    {
     "data": {
      "text/html": [
       "<div>\n",
       "<style scoped>\n",
       "    .dataframe tbody tr th:only-of-type {\n",
       "        vertical-align: middle;\n",
       "    }\n",
       "\n",
       "    .dataframe tbody tr th {\n",
       "        vertical-align: top;\n",
       "    }\n",
       "\n",
       "    .dataframe thead th {\n",
       "        text-align: right;\n",
       "    }\n",
       "</style>\n",
       "<table border=\"1\" class=\"dataframe\">\n",
       "  <thead>\n",
       "    <tr style=\"text-align: right;\">\n",
       "      <th></th>\n",
       "      <th>Time_mom</th>\n",
       "      <th>N_Sat</th>\n",
       "      <th>P1</th>\n",
       "      <th>Sat_X</th>\n",
       "      <th>Sat_Y</th>\n",
       "      <th>Sat_Z</th>\n",
       "    </tr>\n",
       "  </thead>\n",
       "  <tbody>\n",
       "    <tr>\n",
       "      <th>785</th>\n",
       "      <td>05:25:00</td>\n",
       "      <td>2</td>\n",
       "      <td>19052.577323</td>\n",
       "      <td>2184.905275</td>\n",
       "      <td>15349.310978</td>\n",
       "      <td>20129.689073</td>\n",
       "    </tr>\n",
       "    <tr>\n",
       "      <th>786</th>\n",
       "      <td>05:25:00</td>\n",
       "      <td>1</td>\n",
       "      <td>21106.787484</td>\n",
       "      <td>-11915.881636</td>\n",
       "      <td>3162.669722</td>\n",
       "      <td>22300.104699</td>\n",
       "    </tr>\n",
       "    <tr>\n",
       "      <th>787</th>\n",
       "      <td>05:25:00</td>\n",
       "      <td>3</td>\n",
       "      <td>21880.141257</td>\n",
       "      <td>16211.479975</td>\n",
       "      <td>18786.485990</td>\n",
       "      <td>6124.669437</td>\n",
       "    </tr>\n",
       "  </tbody>\n",
       "</table>\n",
       "</div>"
      ],
      "text/plain": [
       "     Time_mom  N_Sat            P1         Sat_X         Sat_Y         Sat_Z\n",
       "785  05:25:00      2  19052.577323   2184.905275  15349.310978  20129.689073\n",
       "786  05:25:00      1  21106.787484 -11915.881636   3162.669722  22300.104699\n",
       "787  05:25:00      3  21880.141257  16211.479975  18786.485990   6124.669437"
      ]
     },
     "execution_count": 7,
     "metadata": {
      "tags": []
     },
     "output_type": "execute_result"
    }
   ],
   "source": [
    "sample_time = observed_more_than_two.index[78]\n",
    "sample = mod_data[mod_data['Time_mom'] == sample_time]\n",
    "sample"
   ]
  },
  {
   "cell_type": "markdown",
   "metadata": {
    "colab_type": "text",
    "id": "OsREKvQHwFfM"
   },
   "source": [
    "## Предустановки"
   ]
  },
  {
   "cell_type": "code",
   "execution_count": 0,
   "metadata": {
    "colab": {},
    "colab_type": "code",
    "id": "EH7pRX5-wZsX"
   },
   "outputs": [],
   "source": [
    "def get_Us_and_P(row):\n",
    "    return np.array([row['Sat_X'],\n",
    "                     row['Sat_Y'],\n",
    "                     row['Sat_Z'],]), row['P1']"
   ]
  },
  {
   "cell_type": "code",
   "execution_count": 0,
   "metadata": {
    "colab": {},
    "colab_type": "code",
    "id": "_hYXvg601VBv"
   },
   "outputs": [],
   "source": [
    "def distance(v1,v2):\n",
    "    return np.sqrt(np.sum((v1-v2)**2))"
   ]
  },
  {
   "cell_type": "code",
   "execution_count": 0,
   "metadata": {
    "colab": {},
    "colab_type": "code",
    "id": "aIOsYp7Q1m_i"
   },
   "outputs": [],
   "source": [
    "def dir_cos(Us,Ur,Ro0):\n",
    "    return (Us-Ur)/Ro0"
   ]
  },
  {
   "cell_type": "markdown",
   "metadata": {
    "colab_type": "text",
    "id": "dc9EWJ-evslw"
   },
   "source": [
    "## I способ расчета"
   ]
  },
  {
   "cell_type": "code",
   "execution_count": 11,
   "metadata": {
    "colab": {
     "base_uri": "https://localhost:8080/",
     "height": 70
    },
    "colab_type": "code",
    "id": "w0Rq-iBV2c3R",
    "outputId": "d4b8b171-aea1-4704-9f4d-d8f9ea73c620"
   },
   "outputs": [
    {
     "data": {
      "text/plain": [
       "[(array([ 2184.90527483, 15349.3109776 , 20129.68907288]), 19052.5773226953),\n",
       " (array([-11915.8816357 ,   3162.66972196,  22300.10469944]), 21106.787484125),\n",
       " (array([16211.47997461, 18786.48599038,  6124.66943681]), 21880.1412569171)]"
      ]
     },
     "execution_count": 11,
     "metadata": {
      "tags": []
     },
     "output_type": "execute_result"
    }
   ],
   "source": [
    "sat_data = [get_Us_and_P(sample.iloc[i]) for i in range(3)]\n",
    "sat_data"
   ]
  },
  {
   "cell_type": "code",
   "execution_count": 0,
   "metadata": {
    "colab": {},
    "colab_type": "code",
    "id": "P67w_ELO33LU"
   },
   "outputs": [],
   "source": [
    "def to_solve_Ur_0(v,Sat_data):\n",
    "    return [distance(v,u) - p for u,p in Sat_data]"
   ]
  },
  {
   "cell_type": "code",
   "execution_count": 13,
   "metadata": {
    "colab": {
     "base_uri": "https://localhost:8080/",
     "height": 34
    },
    "colab_type": "code",
    "id": "mPgLBvsK5WKa",
    "outputId": "39bf5419-8869-4c25-8bfb-13c347e45291"
   },
   "outputs": [
    {
     "data": {
      "text/plain": [
       "[-0.02321069562822231, -0.0828553766150435, 0.002930710372311296]"
      ]
     },
     "execution_count": 13,
     "metadata": {
      "tags": []
     },
     "output_type": "execute_result"
    }
   ],
   "source": [
    "to_solve_Ur_0(required_coordinates,sat_data)"
   ]
  },
  {
   "cell_type": "code",
   "execution_count": 14,
   "metadata": {
    "colab": {
     "base_uri": "https://localhost:8080/",
     "height": 70
    },
    "colab_type": "code",
    "id": "cmqDeRKy2-27",
    "outputId": "d4148563-b1ee-4b32-d38b-77bc354153d9"
   },
   "outputs": [
    {
     "name": "stdout",
     "output_type": "stream",
     "text": [
      "CPU times: user 993 µs, sys: 0 ns, total: 993 µs\n",
      "Wall time: 988 µs\n"
     ]
    },
    {
     "data": {
      "text/plain": [
       "array([ 450.6806568 , 3637.66420946, 5202.18098915])"
      ]
     },
     "execution_count": 14,
     "metadata": {
      "tags": []
     },
     "output_type": "execute_result"
    }
   ],
   "source": [
    "%time Ur_0 = fsolve(to_solve_Ur_0, np.array([1.,1.,1.]), args=(sat_data))\n",
    "\n",
    "Ur_0              "
   ]
  },
  {
   "cell_type": "code",
   "execution_count": 15,
   "metadata": {
    "colab": {
     "base_uri": "https://localhost:8080/",
     "height": 70
    },
    "colab_type": "code",
    "id": "YkBAqj9FgRkM",
    "outputId": "77a4f516-068a-4a65-d7b1-db138afccb6b"
   },
   "outputs": [
    {
     "data": {
      "text/plain": [
       "[array([ 2184.90527483, 15349.3109776 , 20129.68907288]),\n",
       " array([-11915.8816357 ,   3162.66972196,  22300.10469944]),\n",
       " array([16211.47997461, 18786.48599038,  6124.66943681])]"
      ]
     },
     "execution_count": 15,
     "metadata": {
      "tags": []
     },
     "output_type": "execute_result"
    }
   ],
   "source": [
    "Ro = np.array([P_i for Us_i,P_i in sat_data])\n",
    "Ro_0 = Ro.round()\n",
    "Us = [Us_i for Us_i,P in sat_data]\n",
    "Us"
   ]
  },
  {
   "cell_type": "code",
   "execution_count": 16,
   "metadata": {
    "colab": {
     "base_uri": "https://localhost:8080/",
     "height": 70
    },
    "colab_type": "code",
    "id": "QZ4GvEnMg-zD",
    "outputId": "289b6bc6-055d-4eba-ec9b-87b198ad4768"
   },
   "outputs": [
    {
     "data": {
      "text/plain": [
       "[array([0.09102108, 0.61468781, 0.78347284]),\n",
       " array([-0.58589863, -0.02250412,  0.8100594 ]),\n",
       " array([0.72032904, 0.69235931, 0.04216126])]"
      ]
     },
     "execution_count": 16,
     "metadata": {
      "tags": []
     },
     "output_type": "execute_result"
    }
   ],
   "source": [
    "dir_cosines = [dir_cos(*vals) for vals in zip(Us,[Ur_0]*3,Ro_0)]\n",
    "dir_cosines"
   ]
  },
  {
   "cell_type": "code",
   "execution_count": 0,
   "metadata": {
    "colab": {},
    "colab_type": "code",
    "id": "di-6mnz7FjAe"
   },
   "outputs": [],
   "source": [
    "def to_solve_deltas(deltas,cosines,ro_0,ro):\n",
    "    return [(-p+p0+np.sum(np.array(deltas)*cos)) for cos,p0,p in zip(cosines,ro_0,ro)]"
   ]
  },
  {
   "cell_type": "code",
   "execution_count": 29,
   "metadata": {
    "colab": {
     "base_uri": "https://localhost:8080/",
     "height": 34
    },
    "colab_type": "code",
    "id": "WGdSZ5r3JtyR",
    "outputId": "21a4748c-a66d-455d-ea84-4ff9ea7b1edc"
   },
   "outputs": [
    {
     "data": {
      "text/plain": [
       "[0.42267730470121023, 0.212515874998644, -0.14125691710069077]"
      ]
     },
     "execution_count": 29,
     "metadata": {
      "tags": []
     },
     "output_type": "execute_result"
    }
   ],
   "source": [
    "to_solve_deltas([.0,.0,.0,],dir_cosines,Ro_0,Ro)"
   ]
  },
  {
   "cell_type": "code",
   "execution_count": 30,
   "metadata": {
    "colab": {
     "base_uri": "https://localhost:8080/",
     "height": 70
    },
    "colab_type": "code",
    "id": "2vgzhyK4HMdY",
    "outputId": "6892e18b-54a6-4208-c141-bed44b8deeda"
   },
   "outputs": [
    {
     "name": "stdout",
     "output_type": "stream",
     "text": [
      "CPU times: user 0 ns, sys: 1.96 ms, total: 1.96 ms\n",
      "Wall time: 4.82 ms\n"
     ]
    },
    {
     "data": {
      "text/plain": [
       "array([ 11.38832422, -12.1094908 ,   7.63817345])"
      ]
     },
     "execution_count": 30,
     "metadata": {
      "tags": []
     },
     "output_type": "execute_result"
    }
   ],
   "source": [
    "%time deltas = fsolve(to_solve_deltas,[.0,.0,.0],args=(dir_cosines,Ro_0,Ro))\n",
    "deltas"
   ]
  },
  {
   "cell_type": "code",
   "execution_count": 21,
   "metadata": {
    "colab": {
     "base_uri": "https://localhost:8080/",
     "height": 175
    },
    "colab_type": "code",
    "id": "lFW--ZU8IiNs",
    "outputId": "49c73df5-f1c7-4021-8c34-e186b5143d7e"
   },
   "outputs": [
    {
     "name": "stdout",
     "output_type": "stream",
     "text": [
      "Без смещений\n",
      "искомое\n",
      " [ 452.28865  3635.913158 5203.397861]\n",
      "полученное\n",
      " [ 450.6806568  3637.66420946 5202.18098915]\n",
      "разности в координатах\n",
      " [1.6079932  1.75105146 1.21687185]\n",
      "расстояние между реальной и предполагаемой точками\n",
      " 2.6706928744430445\n"
     ]
    }
   ],
   "source": [
    "print('Без смещений')\n",
    "print('искомое\\n', required_coordinates)\n",
    "print('полученное\\n', Ur_0)\n",
    "print('разности в координатах\\n', abs(required_coordinates - Ur_0))\n",
    "print('расстояние между реальной и предполагаемой точками\\n', distance(required_coordinates,Ur_0))"
   ]
  },
  {
   "cell_type": "code",
   "execution_count": 34,
   "metadata": {
    "colab": {
     "base_uri": "https://localhost:8080/",
     "height": 175
    },
    "colab_type": "code",
    "id": "Ed6Xa8_5Mt7k",
    "outputId": "9acd2483-0199-47bd-c196-c0a3045dac48"
   },
   "outputs": [
    {
     "name": "stdout",
     "output_type": "stream",
     "text": [
      "Со смещениями\n",
      "искомое\n",
      " [ 452.28865  3635.913158 5203.397861]\n",
      "полученное\n",
      " [ 462.06898102 3625.55471865 5209.8191626 ]\n",
      "разности в координатах\n",
      " [ 9.78033102 10.35843935  6.4213016 ]\n",
      "расстояние между реальной и предполагаемой точками\n",
      " 15.626428087904301\n"
     ]
    }
   ],
   "source": [
    "print('Со смещениями + delta')\n",
    "print('искомое\\n', required_coordinates)\n",
    "print('полученное\\n', Ur_0+deltas)\n",
    "print('разности в координатах\\n', abs(required_coordinates - Ur_0-deltas))\n",
    "print('расстояние между реальной и предполагаемой точками\\n', distance(required_coordinates,Ur_0+deltas))"
   ]
  },
  {
   "cell_type": "code",
   "execution_count": 0,
   "metadata": {
    "colab": {
     "base_uri": "https://localhost:8080/",
     "height": 166
    },
    "colab_type": "code",
    "id": "FIa1D1RkSUFU",
    "outputId": "9acd2483-0199-47bd-c196-c0a3045dac48"
   },
   "outputs": [
    {
     "name": "stdout",
     "output_type": "stream",
     "text": [
      "Со смещениями\n",
      "искомое\n",
      " [ 452.28865  3635.913158 5203.397861]\n",
      "полученное\n",
      " [ 462.06898102 3625.55471865 5209.8191626 ]\n",
      "разности в координатах\n",
      " [ 9.78033102 10.35843935  6.4213016 ]\n",
      "расстояние между реальной и предполагаемой точками\n",
      " 15.626428087904301\n"
     ]
    }
   ],
   "source": [
    "print('Со смещениями - delta')\n",
    "print('искомое\\n', required_coordinates)\n",
    "print('полученное\\n', Ur_0-deltas)\n",
    "print('разности в координатах\\n', abs(required_coordinates - Ur_0+deltas))\n",
    "print('расстояние между реальной и предполагаемой точками\\n', distance(required_coordinates,Ur_0-deltas))"
   ]
  },
  {
   "cell_type": "markdown",
   "metadata": {
    "colab_type": "text",
    "id": "IYSSlO8Ev4mu"
   },
   "source": [
    "## II способ расчета"
   ]
  },
  {
   "cell_type": "code",
   "execution_count": 45,
   "metadata": {
    "colab": {
     "base_uri": "https://localhost:8080/",
     "height": 90
    },
    "colab_type": "code",
    "id": "uhWQ1H3iNkfs",
    "outputId": "6fdc330f-ecbc-4ed7-ee8b-74824f04d617"
   },
   "outputs": [
    {
     "name": "stdout",
     "output_type": "stream",
     "text": [
      "[(array([ 2184.90527483, 15349.3109776 , 20129.68907288]), 19052.5773226953), (array([-11915.8816357 ,   3162.66972196,  22300.10469944]), 21106.787484125), (array([16211.47997461, 18786.48599038,  6124.66943681]), 21880.1412569171)]\n",
      "[array([ 2184.90527483, 15349.3109776 , 20129.68907288]), array([-11915.8816357 ,   3162.66972196,  22300.10469944]), array([16211.47997461, 18786.48599038,  6124.66943681])]\n",
      "[19052.5773227  21106.78748413 21880.14125692]\n"
     ]
    }
   ],
   "source": [
    "print(sat_data)\n",
    "print(Us)\n",
    "print(Ro)"
   ]
  },
  {
   "cell_type": "code",
   "execution_count": 41,
   "metadata": {
    "colab": {
     "base_uri": "https://localhost:8080/",
     "height": 70
    },
    "colab_type": "code",
    "id": "ecZvXFKAOgDd",
    "outputId": "d2dc0624-52d6-4779-9143-c431680fcd06"
   },
   "outputs": [
    {
     "name": "stdout",
     "output_type": "stream",
     "text": [
      "CPU times: user 902 µs, sys: 0 ns, total: 902 µs\n",
      "Wall time: 879 µs\n"
     ]
    },
    {
     "data": {
      "text/plain": [
       "array([ 451., 3638., 5202.])"
      ]
     },
     "execution_count": 41,
     "metadata": {
      "tags": []
     },
     "output_type": "execute_result"
    }
   ],
   "source": [
    "%time Ur_0 = fsolve(to_solve_Ur_0, np.array([1.,1.,1.]), args=(sat_data)).round()\n",
    "Ur_0              "
   ]
  },
  {
   "cell_type": "code",
   "execution_count": 47,
   "metadata": {
    "colab": {
     "base_uri": "https://localhost:8080/",
     "height": 34
    },
    "colab_type": "code",
    "id": "Zt9u26g9OSir",
    "outputId": "d6a1c674-152f-4259-93ff-f5bcb1f7b371"
   },
   "outputs": [
    {
     "data": {
      "text/plain": [
       "array([19052.48365365, 21107.12876204, 21879.68637162])"
      ]
     },
     "execution_count": 47,
     "metadata": {
      "tags": []
     },
     "output_type": "execute_result"
    }
   ],
   "source": [
    "Ro_0 = np.array([distance(Ur_0,Us_i) for Us_i in Us])\n",
    "Ro_0"
   ]
  },
  {
   "cell_type": "code",
   "execution_count": 48,
   "metadata": {
    "colab": {
     "base_uri": "https://localhost:8080/",
     "height": 70
    },
    "colab_type": "code",
    "id": "xFss0fHiQjmn",
    "outputId": "d0e95d12-5d54-485e-ba02-899418639567"
   },
   "outputs": [
    {
     "data": {
      "text/plain": [
       "[array([0.09100678, 0.61468684, 0.78350358]),\n",
       " array([-0.58591018, -0.02251989,  0.81006303]),\n",
       " array([0.72032477, 0.69235389, 0.04217014])]"
      ]
     },
     "execution_count": 48,
     "metadata": {
      "tags": []
     },
     "output_type": "execute_result"
    }
   ],
   "source": [
    "dir_cosines = [dir_cos(*vals) for vals in zip(Us,[Ur_0]*3,Ro_0)]\n",
    "dir_cosines"
   ]
  },
  {
   "cell_type": "code",
   "execution_count": 49,
   "metadata": {
    "colab": {
     "base_uri": "https://localhost:8080/",
     "height": 70
    },
    "colab_type": "code",
    "id": "WvaGJtBuRLlD",
    "outputId": "f60785a4-06ab-49b3-faca-dd65d6e18be7"
   },
   "outputs": [
    {
     "name": "stdout",
     "output_type": "stream",
     "text": [
      "CPU times: user 1.54 ms, sys: 0 ns, total: 1.54 ms\n",
      "Wall time: 2.19 ms\n"
     ]
    },
    {
     "data": {
      "text/plain": [
       "array([ 0.31926152,  0.33588008, -0.18104191])"
      ]
     },
     "execution_count": 49,
     "metadata": {
      "tags": []
     },
     "output_type": "execute_result"
    }
   ],
   "source": [
    "%time deltas = fsolve(to_solve_deltas,[.0,.0,.0],args=(dir_cosines,Ro_0,Ro))\n",
    "deltas"
   ]
  },
  {
   "cell_type": "code",
   "execution_count": 50,
   "metadata": {
    "colab": {
     "base_uri": "https://localhost:8080/",
     "height": 175
    },
    "colab_type": "code",
    "id": "onVGIxQDRcXI",
    "outputId": "5349d78e-1133-4e5d-dd9b-a897083a7a4e"
   },
   "outputs": [
    {
     "name": "stdout",
     "output_type": "stream",
     "text": [
      "Без смещений\n",
      "искомое\n",
      " [ 452.28865  3635.913158 5203.397861]\n",
      "полученное\n",
      " [ 451. 3638. 5202.]\n",
      "разности в координатах\n",
      " [1.28865  2.086842 1.397861]\n",
      "расстояние между реальной и предполагаемой точками\n",
      " 2.8230380321183715\n"
     ]
    }
   ],
   "source": [
    "print('Без смещений')\n",
    "print('искомое\\n', required_coordinates)\n",
    "print('полученное\\n', Ur_0)\n",
    "print('разности в координатах\\n', abs(required_coordinates - Ur_0))\n",
    "print('расстояние между реальной и предполагаемой точками\\n', distance(required_coordinates,Ur_0))"
   ]
  },
  {
   "cell_type": "code",
   "execution_count": 53,
   "metadata": {
    "colab": {
     "base_uri": "https://localhost:8080/",
     "height": 175
    },
    "colab_type": "code",
    "id": "odNtYGzXRcXc",
    "outputId": "e7af59f4-7628-418f-ec6f-bfbc57082b76"
   },
   "outputs": [
    {
     "name": "stdout",
     "output_type": "stream",
     "text": [
      "Со смещениями - delta\n",
      "искомое\n",
      " [ 452.28865  3635.913158 5203.397861]\n",
      "полученное\n",
      " [ 450.68073848 3637.66411992 5202.18104191]\n",
      "разности в координатах\n",
      " [1.60791152 1.75096192 1.21681909]\n",
      "расстояние между реальной и предполагаемой точками\n",
      " 2.6705609482341104\n"
     ]
    }
   ],
   "source": [
    "print('Со смещениями - delta')\n",
    "print('искомое\\n', required_coordinates)\n",
    "print('полученное\\n', Ur_0-deltas)\n",
    "print('разности в координатах\\n', abs(required_coordinates - Ur_0+deltas))\n",
    "print('расстояние между реальной и предполагаемой точками\\n', distance(required_coordinates,Ur_0-deltas))"
   ]
  },
  {
   "cell_type": "code",
   "execution_count": 54,
   "metadata": {
    "colab": {
     "base_uri": "https://localhost:8080/",
     "height": 175
    },
    "colab_type": "code",
    "id": "gq3nz5c8SF5E",
    "outputId": "513c6ee5-562e-4aae-ef6a-c60c834bda02"
   },
   "outputs": [
    {
     "name": "stdout",
     "output_type": "stream",
     "text": [
      "Со смещениями + delta\n",
      "искомое\n",
      " [ 452.28865  3635.913158 5203.397861]\n",
      "полученное\n",
      " [ 451.31926152 3638.33588008 5201.81895809]\n",
      "разности в координатах\n",
      " [0.96938848 2.42272208 1.57890291]\n",
      "расстояние между реальной и предполагаемой точками\n",
      " 3.0499558559262883\n"
     ]
    }
   ],
   "source": [
    "print('Со смещениями + delta')\n",
    "print('искомое\\n', required_coordinates)\n",
    "print('полученное\\n', Ur_0+deltas)\n",
    "print('разности в координатах\\n', abs(required_coordinates - Ur_0-deltas))\n",
    "print('расстояние между реальной и предполагаемой точками\\n', distance(required_coordinates,Ur_0+deltas))"
   ]
  },
  {
   "cell_type": "markdown",
   "metadata": {
    "colab_type": "text",
    "id": "CFqpFTkKv7sL"
   },
   "source": [
    "## III способ расчета"
   ]
  },
  {
   "cell_type": "code",
   "execution_count": 0,
   "metadata": {
    "colab": {},
    "colab_type": "code",
    "id": "BeNOklFtSvF6"
   },
   "outputs": [],
   "source": [
    "Ro_0 = Ro.round()"
   ]
  },
  {
   "cell_type": "code",
   "execution_count": 59,
   "metadata": {
    "colab": {
     "base_uri": "https://localhost:8080/",
     "height": 70
    },
    "colab_type": "code",
    "id": "DO5aGWxCTfw-",
    "outputId": "9a14f572-3a3a-4347-a4ec-7dec1def368f"
   },
   "outputs": [
    {
     "name": "stdout",
     "output_type": "stream",
     "text": [
      "CPU times: user 889 µs, sys: 0 ns, total: 889 µs\n",
      "Wall time: 886 µs\n"
     ]
    },
    {
     "data": {
      "text/plain": [
       "array([ 462.25086458, 3625.36858019, 5209.95564882])"
      ]
     },
     "execution_count": 59,
     "metadata": {
      "tags": []
     },
     "output_type": "execute_result"
    }
   ],
   "source": [
    "%time Ur_0 = fsolve(to_solve_Ur_0, np.array([1.,1.,1.]), args=(list(zip(Us,Ro_0))))\n",
    "Ur_0              "
   ]
  },
  {
   "cell_type": "code",
   "execution_count": 60,
   "metadata": {
    "colab": {
     "base_uri": "https://localhost:8080/",
     "height": 70
    },
    "colab_type": "code",
    "id": "xUAjwn64TfxX",
    "outputId": "ec132e61-6d1c-4144-b54d-db8f973f6d9e"
   },
   "outputs": [
    {
     "data": {
      "text/plain": [
       "[array([0.09041381, 0.61533314, 0.78306479]),\n",
       " array([-0.58644679, -0.02192158,  0.80969105]),\n",
       " array([0.71980023, 0.69292127, 0.04180593])]"
      ]
     },
     "execution_count": 60,
     "metadata": {
      "tags": []
     },
     "output_type": "execute_result"
    }
   ],
   "source": [
    "dir_cosines = [dir_cos(*vals) for vals in zip(Us,[Ur_0]*3,Ro_0)]\n",
    "dir_cosines"
   ]
  },
  {
   "cell_type": "code",
   "execution_count": 61,
   "metadata": {
    "colab": {
     "base_uri": "https://localhost:8080/",
     "height": 70
    },
    "colab_type": "code",
    "id": "xGmO3fzOTfxl",
    "outputId": "c08b64eb-dc5e-4a8c-b6f1-67bbb134ce76"
   },
   "outputs": [
    {
     "name": "stdout",
     "output_type": "stream",
     "text": [
      "CPU times: user 1.49 ms, sys: 52 µs, total: 1.54 ms\n",
      "Wall time: 1.34 ms\n"
     ]
    },
    {
     "data": {
      "text/plain": [
       "array([ 11.75824137, -12.48807544,   7.91574599])"
      ]
     },
     "execution_count": 61,
     "metadata": {
      "tags": []
     },
     "output_type": "execute_result"
    }
   ],
   "source": [
    "%time deltas = fsolve(to_solve_deltas,[.0,.0,.0],args=(dir_cosines,Ro_0,Ro))\n",
    "deltas"
   ]
  },
  {
   "cell_type": "code",
   "execution_count": 62,
   "metadata": {
    "colab": {
     "base_uri": "https://localhost:8080/",
     "height": 175
    },
    "colab_type": "code",
    "id": "nmmfBiayTfxx",
    "outputId": "03db9b0d-e753-4879-8fbd-1eb51f9f4307"
   },
   "outputs": [
    {
     "name": "stdout",
     "output_type": "stream",
     "text": [
      "Без смещений\n",
      "искомое\n",
      " [ 452.28865  3635.913158 5203.397861]\n",
      "полученное\n",
      " [ 462.25086458 3625.36858019 5209.95564882]\n",
      "разности в координатах\n",
      " [ 9.96221458 10.54457781  6.55778782]\n",
      "расстояние между реальной и предполагаемой точками\n",
      " 15.919749418286411\n"
     ]
    }
   ],
   "source": [
    "print('Без смещений')\n",
    "print('искомое\\n', required_coordinates)\n",
    "print('полученное\\n', Ur_0)\n",
    "print('разности в координатах\\n', abs(required_coordinates - Ur_0))\n",
    "print('расстояние между реальной и предполагаемой точками\\n', distance(required_coordinates,Ur_0))"
   ]
  },
  {
   "cell_type": "code",
   "execution_count": 63,
   "metadata": {
    "colab": {
     "base_uri": "https://localhost:8080/",
     "height": 175
    },
    "colab_type": "code",
    "id": "CTMB1adZTfx5",
    "outputId": "c3f8a2ee-7323-4f38-fc37-579b8e13e120"
   },
   "outputs": [
    {
     "name": "stdout",
     "output_type": "stream",
     "text": [
      "Со смещениями - delta\n",
      "искомое\n",
      " [ 452.28865  3635.913158 5203.397861]\n",
      "полученное\n",
      " [ 450.4926232  3637.85665563 5202.03990283]\n",
      "разности в координатах\n",
      " [1.7960268  1.94349763 1.35795817]\n",
      "расстояние между реальной и предполагаемой точками\n",
      " 2.9743815625166876\n"
     ]
    }
   ],
   "source": [
    "print('Со смещениями - delta')\n",
    "print('искомое\\n', required_coordinates)\n",
    "print('полученное\\n', Ur_0-deltas)\n",
    "print('разности в координатах\\n', abs(required_coordinates - Ur_0+deltas))\n",
    "print('расстояние между реальной и предполагаемой точками\\n', distance(required_coordinates,Ur_0-deltas))"
   ]
  },
  {
   "cell_type": "code",
   "execution_count": 64,
   "metadata": {
    "colab": {
     "base_uri": "https://localhost:8080/",
     "height": 175
    },
    "colab_type": "code",
    "id": "kfX1S51zTfx_",
    "outputId": "d1c6f000-5106-4d09-85a3-b329e41afb1f"
   },
   "outputs": [
    {
     "name": "stdout",
     "output_type": "stream",
     "text": [
      "Со смещениями + delta\n",
      "искомое\n",
      " [ 452.28865  3635.913158 5203.397861]\n",
      "полученное\n",
      " [ 474.00910595 3612.88050475 5217.87139481]\n",
      "разности в координатах\n",
      " [21.72045595 23.03265325 14.47353381]\n",
      "расстояние между реальной и предполагаемой точками\n",
      " 34.810407972929994\n"
     ]
    }
   ],
   "source": [
    "print('Со смещениями + delta')\n",
    "print('искомое\\n', required_coordinates)\n",
    "print('полученное\\n', Ur_0+deltas)\n",
    "print('разности в координатах\\n', abs(required_coordinates - Ur_0-deltas))\n",
    "print('расстояние между реальной и предполагаемой точками\\n', distance(required_coordinates,Ur_0+deltas))"
   ]
  },
  {
   "cell_type": "markdown",
   "metadata": {
    "colab_type": "text",
    "id": "uqMzYa8Ev97b"
   },
   "source": [
    "## Результаты"
   ]
  },
  {
   "cell_type": "code",
   "execution_count": 66,
   "metadata": {
    "colab": {
     "base_uri": "https://localhost:8080/",
     "height": 34
    },
    "colab_type": "code",
    "id": "8UGVxA9pVjY9",
    "outputId": "baaa4412-5091-409b-b5e8-85f7a6e18944"
   },
   "outputs": [
    {
     "name": "stdout",
     "output_type": "stream",
     "text": [
      "Δ δ\n"
     ]
    }
   ],
   "source": [
    "print('Δ','δ')"
   ]
  },
  {
   "cell_type": "code",
   "execution_count": 0,
   "metadata": {
    "colab": {},
    "colab_type": "code",
    "id": "0cdd-WL5XEoO"
   },
   "outputs": [],
   "source": [
    "def ingot():\n",
    "    return    {'Xr без коррекции':[],\n",
    "               'Yr без коррекции':[],\n",
    "               'Zr без коррекции':[],\n",
    "               'ΔX':[],\n",
    "               'ΔY':[],\n",
    "               'ΔZ':[],}"
   ]
  },
  {
   "cell_type": "code",
   "execution_count": 0,
   "metadata": {
    "colab": {},
    "colab_type": "code",
    "id": "5X-IVU6UVtjd"
   },
   "outputs": [],
   "source": [
    "def method_1(samples: list):\n",
    "    res = ingot()\n",
    "    for sample in samples:\n",
    "        sat_data = [get_Us_and_P(sample.iloc[i]) for i in range(3)]\n",
    "        Ur_0 = fsolve(to_solve_Ur_0, np.array([1.,1.,1.]), args=(sat_data))\n",
    "        Ro = np.array([P_i for Us_i,P_i in sat_data])\n",
    "        Ro_0 = Ro.round()\n",
    "        Us = [Us_i for Us_i,P in sat_data]\n",
    "        dir_cosines = [dir_cos(*vals) for vals in zip(Us,[Ur_0]*3,Ro_0)]\n",
    "        deltas = fsolve(to_solve_deltas,[.0,.0,.0],args=(dir_cosines,Ro_0,Ro))\n",
    "        for i,ax in enumerate(('X','Y','Z')):\n",
    "           res[ax+'r без коррекции'].append(Ur_0[i])\n",
    "           res['Δ'+ax].append(deltas[i])\n",
    "    return res"
   ]
  },
  {
   "cell_type": "code",
   "execution_count": 0,
   "metadata": {
    "colab": {},
    "colab_type": "code",
    "id": "8ZM3DAVddFeN"
   },
   "outputs": [],
   "source": [
    "def method_2(samples: list):\n",
    "    res = ingot()\n",
    "    for sample in samples:\n",
    "        sat_data = [get_Us_and_P(sample.iloc[i]) for i in range(3)]\n",
    "        Ro = np.array([P_i for Us_i,P_i in sat_data])\n",
    "        Us = [Us_i for Us_i,P in sat_data]\n",
    "        Ur_0 = fsolve(to_solve_Ur_0, np.array([1.,1.,1.]), args=(sat_data)).round()\n",
    "        Ro_0 = np.array([distance(Ur_0,Us_i) for Us_i in Us])\n",
    "        dir_cosines = [dir_cos(*vals) for vals in zip(Us,[Ur_0]*3,Ro_0)]\n",
    "        deltas = fsolve(to_solve_deltas,[.0,.0,.0],args=(dir_cosines,Ro_0,Ro))\n",
    "        for i,ax in enumerate(('X','Y','Z')):\n",
    "           res[ax+'r без коррекции'].append(Ur_0[i])\n",
    "           res['Δ'+ax].append(deltas[i])\n",
    "    return res"
   ]
  },
  {
   "cell_type": "code",
   "execution_count": 0,
   "metadata": {
    "colab": {},
    "colab_type": "code",
    "id": "5SEIZKoPeYY8"
   },
   "outputs": [],
   "source": [
    "def method_3(samples: list):\n",
    "    res = ingot()\n",
    "    for sample in samples:\n",
    "        sat_data = [get_Us_and_P(sample.iloc[i]) for i in range(3)]\n",
    "        Ro = np.array([P_i for Us_i,P_i in sat_data])\n",
    "        Us = [Us_i for Us_i,P in sat_data]\n",
    "        Ro_0 = Ro.round()\n",
    "        Ur_0 = fsolve(to_solve_Ur_0, np.array([1.,1.,1.]), args=(list(zip(Us,Ro_0))))\n",
    "        dir_cosines = [dir_cos(*vals) for vals in zip(Us,[Ur_0]*3,Ro_0)]\n",
    "        deltas = fsolve(to_solve_deltas,[.0,.0,.0],args=(dir_cosines,Ro_0,Ro))\n",
    "        for i,ax in enumerate(('X','Y','Z')):\n",
    "           res[ax+'r без коррекции'].append(Ur_0[i])\n",
    "           res['Δ'+ax].append(deltas[i])\n",
    "    return res"
   ]
  },
  {
   "cell_type": "code",
   "execution_count": 0,
   "metadata": {
    "colab": {},
    "colab_type": "code",
    "id": "oUSm96umZiym"
   },
   "outputs": [],
   "source": [
    "from random import sample as some_samples"
   ]
  },
  {
   "cell_type": "code",
   "execution_count": 72,
   "metadata": {
    "colab": {
     "base_uri": "https://localhost:8080/",
     "height": 298
    },
    "colab_type": "code",
    "id": "jcroIsO9Z6BM",
    "outputId": "06e273b4-582b-4d08-d0ca-f611f06600c6"
   },
   "outputs": [
    {
     "data": {
      "text/plain": [
       "[      Time_mom  N_Sat            P1         Sat_X         Sat_Y         Sat_Z\n",
       " 1665  07:52:00      2  22797.102214 -20224.854103   4282.385819  14781.527912\n",
       " 1666  07:52:00      3  19414.309175  -2591.632905  10724.703544  23019.050184\n",
       " 1667  07:52:00      4  20258.056522  14697.783003  10829.685964  17681.547844,\n",
       "       Time_mom  N_Sat            P1         Sat_X         Sat_Y         Sat_Z\n",
       " 1079  06:14:00      2  19480.337107  -4734.848496   9726.494539  22965.154933\n",
       " 1080  06:14:00      1  23166.568085 -18509.512818  -1619.420214  17431.064071\n",
       " 1081  06:14:00      3  20186.330641  12930.758302  15907.933548  15261.883423,\n",
       "       Time_mom  N_Sat            P1         Sat_X         Sat_Y         Sat_Z\n",
       " 1599  07:41:00      2  22337.574802 -18794.335354   4423.674440  16513.105573\n",
       " 1600  07:41:00      3  19317.962686   -529.011020  10979.680311  23044.039060\n",
       " 1601  07:41:00      4  20577.455360  16201.444918  11194.953370  16077.981843,\n",
       "       Time_mom  N_Sat            P1         Sat_X         Sat_Y         Sat_Z\n",
       " 1022  06:04:30      2  19309.844744  -3229.971971  10728.959113  22781.738041\n",
       " 1023  06:04:30      1  22743.894968 -17282.243649   -912.551887  18697.006097\n",
       " 1024  06:04:30      3  20455.418054  13851.669674  16558.911407  13681.416528]"
      ]
     },
     "execution_count": 72,
     "metadata": {
      "tags": []
     },
     "output_type": "execute_result"
    }
   ],
   "source": [
    "n_sample_time = some_samples(observed_more_than_two.index.to_list(), 12)\n",
    "samples = [mod_data[mod_data['Time_mom'] == sample_time] for sample_time in n_sample_time]\n",
    "samples[4:8]"
   ]
  },
  {
   "cell_type": "code",
   "execution_count": 0,
   "metadata": {
    "colab": {},
    "colab_type": "code",
    "id": "FtfLEReJbNuI"
   },
   "outputs": [],
   "source": [
    "results = [pd.DataFrame(eval('method_'+str(i+1)+'(samples)')) for i in range(3)]\n",
    "\n",
    "for df in results:\n",
    "    to_pop = list()\n",
    "    for sign in ('+','-'):\n",
    "        for i,ax in enumerate(('X','Y','Z')):\n",
    "            tmp = eval(\"df[ax+'r без коррекции']\"+sign+\n",
    "                       \"df['Δ'+ax] - required_coordinates[i]\" )\n",
    "            df['{a}r {s} Δ{a} - {a} реал.'.format(a=ax,s=sign)] = tmp\n",
    "            hs = str(i)+sign\n",
    "            to_pop.append(hs)\n",
    "            df[hs] = tmp**2\n",
    "        df['Расстояние от реал до (Ur{s}Δ)'.format(s=sign)] = np.sqrt(\n",
    "            df['0'+sign]+df['1'+sign]+df['2'+sign]\n",
    "        )\n",
    "    for hs in to_pop:\n",
    "        df.pop(hs)\n",
    "    to_pop.clear()"
   ]
  },
  {
   "cell_type": "code",
   "execution_count": 92,
   "metadata": {
    "colab": {
     "base_uri": "https://localhost:8080/",
     "height": 456
    },
    "colab_type": "code",
    "id": "UiTc5cRgi_7L",
    "outputId": "595a6c6f-de65-43ef-af98-5763c1ff4ced"
   },
   "outputs": [
    {
     "data": {
      "text/html": [
       "<div>\n",
       "<style scoped>\n",
       "    .dataframe tbody tr th:only-of-type {\n",
       "        vertical-align: middle;\n",
       "    }\n",
       "\n",
       "    .dataframe tbody tr th {\n",
       "        vertical-align: top;\n",
       "    }\n",
       "\n",
       "    .dataframe thead th {\n",
       "        text-align: right;\n",
       "    }\n",
       "</style>\n",
       "<table border=\"1\" class=\"dataframe\">\n",
       "  <thead>\n",
       "    <tr style=\"text-align: right;\">\n",
       "      <th></th>\n",
       "      <th>Xr без коррекции</th>\n",
       "      <th>Yr без коррекции</th>\n",
       "      <th>Zr без коррекции</th>\n",
       "      <th>ΔX</th>\n",
       "      <th>ΔY</th>\n",
       "      <th>ΔZ</th>\n",
       "      <th>Xr + ΔX - X реал.</th>\n",
       "      <th>Yr + ΔY - Y реал.</th>\n",
       "      <th>Zr + ΔZ - Z реал.</th>\n",
       "      <th>Расстояние от реал до (Ur+Δ)</th>\n",
       "      <th>Xr - ΔX - X реал.</th>\n",
       "      <th>Yr - ΔY - Y реал.</th>\n",
       "      <th>Zr - ΔZ - Z реал.</th>\n",
       "      <th>Расстояние от реал до (Ur-Δ)</th>\n",
       "    </tr>\n",
       "  </thead>\n",
       "  <tbody>\n",
       "    <tr>\n",
       "      <th>0</th>\n",
       "      <td>217.905615</td>\n",
       "      <td>4317.027841</td>\n",
       "      <td>4927.659635</td>\n",
       "      <td>6.661148</td>\n",
       "      <td>-19.501511</td>\n",
       "      <td>7.876834</td>\n",
       "      <td>-227.721887</td>\n",
       "      <td>661.613172</td>\n",
       "      <td>-267.861392</td>\n",
       "      <td>749.225582</td>\n",
       "      <td>-241.044183</td>\n",
       "      <td>700.616193</td>\n",
       "      <td>-283.615060</td>\n",
       "      <td>793.349136</td>\n",
       "    </tr>\n",
       "    <tr>\n",
       "      <th>1</th>\n",
       "      <td>450.897530</td>\n",
       "      <td>3637.994006</td>\n",
       "      <td>5202.191821</td>\n",
       "      <td>13.920197</td>\n",
       "      <td>-19.870024</td>\n",
       "      <td>10.895871</td>\n",
       "      <td>12.529077</td>\n",
       "      <td>-17.789176</td>\n",
       "      <td>9.689831</td>\n",
       "      <td>23.818593</td>\n",
       "      <td>-15.311317</td>\n",
       "      <td>21.950871</td>\n",
       "      <td>-12.101910</td>\n",
       "      <td>29.372324</td>\n",
       "    </tr>\n",
       "    <tr>\n",
       "      <th>2</th>\n",
       "      <td>450.773399</td>\n",
       "      <td>3637.680450</td>\n",
       "      <td>5202.217625</td>\n",
       "      <td>-22.198653</td>\n",
       "      <td>25.134624</td>\n",
       "      <td>-16.207920</td>\n",
       "      <td>-23.713905</td>\n",
       "      <td>26.901917</td>\n",
       "      <td>-17.388157</td>\n",
       "      <td>39.854866</td>\n",
       "      <td>20.683402</td>\n",
       "      <td>-23.367332</td>\n",
       "      <td>15.027684</td>\n",
       "      <td>34.636204</td>\n",
       "    </tr>\n",
       "    <tr>\n",
       "      <th>3</th>\n",
       "      <td>453.076604</td>\n",
       "      <td>3634.098063</td>\n",
       "      <td>5204.159172</td>\n",
       "      <td>7.058420</td>\n",
       "      <td>-17.120661</td>\n",
       "      <td>8.014128</td>\n",
       "      <td>7.846374</td>\n",
       "      <td>-18.935755</td>\n",
       "      <td>8.775439</td>\n",
       "      <td>22.296563</td>\n",
       "      <td>-6.270466</td>\n",
       "      <td>15.305566</td>\n",
       "      <td>-7.252818</td>\n",
       "      <td>18.060522</td>\n",
       "    </tr>\n",
       "    <tr>\n",
       "      <th>4</th>\n",
       "      <td>451.932368</td>\n",
       "      <td>3638.737791</td>\n",
       "      <td>5202.170531</td>\n",
       "      <td>-1.238149</td>\n",
       "      <td>7.729179</td>\n",
       "      <td>-2.948595</td>\n",
       "      <td>-1.594430</td>\n",
       "      <td>10.553812</td>\n",
       "      <td>-4.175924</td>\n",
       "      <td>11.461391</td>\n",
       "      <td>0.881867</td>\n",
       "      <td>-4.904547</td>\n",
       "      <td>1.721265</td>\n",
       "      <td>5.272098</td>\n",
       "    </tr>\n",
       "    <tr>\n",
       "      <th>5</th>\n",
       "      <td>450.849867</td>\n",
       "      <td>3638.482798</td>\n",
       "      <td>5202.042048</td>\n",
       "      <td>-10.114834</td>\n",
       "      <td>18.011806</td>\n",
       "      <td>-8.756445</td>\n",
       "      <td>-11.553617</td>\n",
       "      <td>20.581446</td>\n",
       "      <td>-10.112257</td>\n",
       "      <td>25.677611</td>\n",
       "      <td>8.676050</td>\n",
       "      <td>-15.442166</td>\n",
       "      <td>7.400632</td>\n",
       "      <td>19.196450</td>\n",
       "    </tr>\n",
       "    <tr>\n",
       "      <th>6</th>\n",
       "      <td>451.528518</td>\n",
       "      <td>3640.064742</td>\n",
       "      <td>5201.610193</td>\n",
       "      <td>1.718565</td>\n",
       "      <td>-5.935167</td>\n",
       "      <td>2.495520</td>\n",
       "      <td>0.958433</td>\n",
       "      <td>-1.783583</td>\n",
       "      <td>0.707852</td>\n",
       "      <td>2.144951</td>\n",
       "      <td>-2.478698</td>\n",
       "      <td>10.086751</td>\n",
       "      <td>-4.283188</td>\n",
       "      <td>11.235310</td>\n",
       "    </tr>\n",
       "    <tr>\n",
       "      <th>7</th>\n",
       "      <td>450.880169</td>\n",
       "      <td>3638.204723</td>\n",
       "      <td>5202.129578</td>\n",
       "      <td>9.869075</td>\n",
       "      <td>-14.712549</td>\n",
       "      <td>7.830190</td>\n",
       "      <td>8.460593</td>\n",
       "      <td>-12.420984</td>\n",
       "      <td>6.561907</td>\n",
       "      <td>16.398814</td>\n",
       "      <td>-11.277556</td>\n",
       "      <td>17.004114</td>\n",
       "      <td>-9.098473</td>\n",
       "      <td>22.340666</td>\n",
       "    </tr>\n",
       "    <tr>\n",
       "      <th>8</th>\n",
       "      <td>454.147681</td>\n",
       "      <td>3630.270821</td>\n",
       "      <td>5205.766351</td>\n",
       "      <td>-1.962010</td>\n",
       "      <td>4.920221</td>\n",
       "      <td>-2.167863</td>\n",
       "      <td>-0.102978</td>\n",
       "      <td>-0.722116</td>\n",
       "      <td>0.200627</td>\n",
       "      <td>0.756510</td>\n",
       "      <td>3.821041</td>\n",
       "      <td>-10.562558</td>\n",
       "      <td>4.536353</td>\n",
       "      <td>12.113897</td>\n",
       "    </tr>\n",
       "    <tr>\n",
       "      <th>9</th>\n",
       "      <td>453.955781</td>\n",
       "      <td>3630.961902</td>\n",
       "      <td>5205.474211</td>\n",
       "      <td>-4.073163</td>\n",
       "      <td>12.443391</td>\n",
       "      <td>-5.653850</td>\n",
       "      <td>-2.406032</td>\n",
       "      <td>7.492135</td>\n",
       "      <td>-3.577500</td>\n",
       "      <td>8.644049</td>\n",
       "      <td>5.740295</td>\n",
       "      <td>-17.394648</td>\n",
       "      <td>7.730201</td>\n",
       "      <td>19.881669</td>\n",
       "    </tr>\n",
       "    <tr>\n",
       "      <th>10</th>\n",
       "      <td>452.906904</td>\n",
       "      <td>3634.750493</td>\n",
       "      <td>5203.905954</td>\n",
       "      <td>-0.769178</td>\n",
       "      <td>1.146856</td>\n",
       "      <td>-0.885965</td>\n",
       "      <td>-0.150924</td>\n",
       "      <td>-0.015810</td>\n",
       "      <td>-0.377872</td>\n",
       "      <td>0.407204</td>\n",
       "      <td>1.387433</td>\n",
       "      <td>-2.309521</td>\n",
       "      <td>1.394058</td>\n",
       "      <td>3.033522</td>\n",
       "    </tr>\n",
       "    <tr>\n",
       "      <th>11</th>\n",
       "      <td>452.904778</td>\n",
       "      <td>3634.749390</td>\n",
       "      <td>5203.905189</td>\n",
       "      <td>3.820317</td>\n",
       "      <td>-6.632334</td>\n",
       "      <td>2.971048</td>\n",
       "      <td>4.436445</td>\n",
       "      <td>-7.796103</td>\n",
       "      <td>3.478376</td>\n",
       "      <td>9.620830</td>\n",
       "      <td>-3.204189</td>\n",
       "      <td>5.468566</td>\n",
       "      <td>-2.463720</td>\n",
       "      <td>6.800144</td>\n",
       "    </tr>\n",
       "  </tbody>\n",
       "</table>\n",
       "</div>"
      ],
      "text/plain": [
       "    Xr без коррекции  ...  Расстояние от реал до (Ur-Δ)\n",
       "0         217.905615  ...                    793.349136\n",
       "1         450.897530  ...                     29.372324\n",
       "2         450.773399  ...                     34.636204\n",
       "3         453.076604  ...                     18.060522\n",
       "4         451.932368  ...                      5.272098\n",
       "5         450.849867  ...                     19.196450\n",
       "6         451.528518  ...                     11.235310\n",
       "7         450.880169  ...                     22.340666\n",
       "8         454.147681  ...                     12.113897\n",
       "9         453.955781  ...                     19.881669\n",
       "10        452.906904  ...                      3.033522\n",
       "11        452.904778  ...                      6.800144\n",
       "\n",
       "[12 rows x 14 columns]"
      ]
     },
     "execution_count": 92,
     "metadata": {
      "tags": []
     },
     "output_type": "execute_result"
    }
   ],
   "source": [
    "results[0]"
   ]
  },
  {
   "cell_type": "code",
   "execution_count": 93,
   "metadata": {
    "colab": {
     "base_uri": "https://localhost:8080/",
     "height": 456
    },
    "colab_type": "code",
    "id": "4X8QinBRol5d",
    "outputId": "85f7c395-8bbd-4e6e-bfb7-897f347abc84"
   },
   "outputs": [
    {
     "data": {
      "text/html": [
       "<div>\n",
       "<style scoped>\n",
       "    .dataframe tbody tr th:only-of-type {\n",
       "        vertical-align: middle;\n",
       "    }\n",
       "\n",
       "    .dataframe tbody tr th {\n",
       "        vertical-align: top;\n",
       "    }\n",
       "\n",
       "    .dataframe thead th {\n",
       "        text-align: right;\n",
       "    }\n",
       "</style>\n",
       "<table border=\"1\" class=\"dataframe\">\n",
       "  <thead>\n",
       "    <tr style=\"text-align: right;\">\n",
       "      <th></th>\n",
       "      <th>Xr без коррекции</th>\n",
       "      <th>Yr без коррекции</th>\n",
       "      <th>Zr без коррекции</th>\n",
       "      <th>ΔX</th>\n",
       "      <th>ΔY</th>\n",
       "      <th>ΔZ</th>\n",
       "      <th>Xr + ΔX - X реал.</th>\n",
       "      <th>Yr + ΔY - Y реал.</th>\n",
       "      <th>Zr + ΔZ - Z реал.</th>\n",
       "      <th>Расстояние от реал до (Ur+Δ)</th>\n",
       "      <th>Xr - ΔX - X реал.</th>\n",
       "      <th>Yr - ΔY - Y реал.</th>\n",
       "      <th>Zr - ΔZ - Z реал.</th>\n",
       "      <th>Расстояние от реал до (Ur-Δ)</th>\n",
       "    </tr>\n",
       "  </thead>\n",
       "  <tbody>\n",
       "    <tr>\n",
       "      <th>0</th>\n",
       "      <td>218.0</td>\n",
       "      <td>4317.0</td>\n",
       "      <td>4928.0</td>\n",
       "      <td>0.094462</td>\n",
       "      <td>-0.028068</td>\n",
       "      <td>0.340452</td>\n",
       "      <td>-234.194188</td>\n",
       "      <td>681.058774</td>\n",
       "      <td>-275.057409</td>\n",
       "      <td>770.937449</td>\n",
       "      <td>-234.383112</td>\n",
       "      <td>681.114910</td>\n",
       "      <td>-275.738313</td>\n",
       "      <td>771.287612</td>\n",
       "    </tr>\n",
       "    <tr>\n",
       "      <th>1</th>\n",
       "      <td>451.0</td>\n",
       "      <td>3638.0</td>\n",
       "      <td>5202.0</td>\n",
       "      <td>0.102490</td>\n",
       "      <td>0.005967</td>\n",
       "      <td>-0.191805</td>\n",
       "      <td>-1.186160</td>\n",
       "      <td>2.092809</td>\n",
       "      <td>-1.589666</td>\n",
       "      <td>2.883377</td>\n",
       "      <td>-1.391140</td>\n",
       "      <td>2.080875</td>\n",
       "      <td>-1.206056</td>\n",
       "      <td>2.778468</td>\n",
       "    </tr>\n",
       "    <tr>\n",
       "      <th>2</th>\n",
       "      <td>451.0</td>\n",
       "      <td>3638.0</td>\n",
       "      <td>5202.0</td>\n",
       "      <td>0.226552</td>\n",
       "      <td>0.319607</td>\n",
       "      <td>-0.217655</td>\n",
       "      <td>-1.062098</td>\n",
       "      <td>2.406449</td>\n",
       "      <td>-1.615516</td>\n",
       "      <td>3.086899</td>\n",
       "      <td>-1.515202</td>\n",
       "      <td>1.767235</td>\n",
       "      <td>-1.180206</td>\n",
       "      <td>2.609950</td>\n",
       "    </tr>\n",
       "    <tr>\n",
       "      <th>3</th>\n",
       "      <td>453.0</td>\n",
       "      <td>3634.0</td>\n",
       "      <td>5204.0</td>\n",
       "      <td>-0.076623</td>\n",
       "      <td>-0.098018</td>\n",
       "      <td>-0.159191</td>\n",
       "      <td>0.634727</td>\n",
       "      <td>-2.011176</td>\n",
       "      <td>0.442948</td>\n",
       "      <td>2.154973</td>\n",
       "      <td>0.787973</td>\n",
       "      <td>-1.815140</td>\n",
       "      <td>0.761330</td>\n",
       "      <td>2.120202</td>\n",
       "    </tr>\n",
       "    <tr>\n",
       "      <th>4</th>\n",
       "      <td>452.0</td>\n",
       "      <td>3639.0</td>\n",
       "      <td>5202.0</td>\n",
       "      <td>0.067642</td>\n",
       "      <td>0.262147</td>\n",
       "      <td>-0.170503</td>\n",
       "      <td>-0.221008</td>\n",
       "      <td>3.348989</td>\n",
       "      <td>-1.568364</td>\n",
       "      <td>3.704637</td>\n",
       "      <td>-0.356292</td>\n",
       "      <td>2.824695</td>\n",
       "      <td>-1.227358</td>\n",
       "      <td>3.100364</td>\n",
       "    </tr>\n",
       "    <tr>\n",
       "      <th>5</th>\n",
       "      <td>451.0</td>\n",
       "      <td>3638.0</td>\n",
       "      <td>5202.0</td>\n",
       "      <td>0.150229</td>\n",
       "      <td>-0.482959</td>\n",
       "      <td>-0.041960</td>\n",
       "      <td>-1.138421</td>\n",
       "      <td>1.603883</td>\n",
       "      <td>-1.439821</td>\n",
       "      <td>2.437524</td>\n",
       "      <td>-1.438879</td>\n",
       "      <td>2.569801</td>\n",
       "      <td>-1.355901</td>\n",
       "      <td>3.242332</td>\n",
       "    </tr>\n",
       "    <tr>\n",
       "      <th>6</th>\n",
       "      <td>452.0</td>\n",
       "      <td>3640.0</td>\n",
       "      <td>5202.0</td>\n",
       "      <td>0.471494</td>\n",
       "      <td>-0.064819</td>\n",
       "      <td>0.389847</td>\n",
       "      <td>0.182844</td>\n",
       "      <td>4.022023</td>\n",
       "      <td>-1.008014</td>\n",
       "      <td>4.150445</td>\n",
       "      <td>-0.760144</td>\n",
       "      <td>4.151661</td>\n",
       "      <td>-1.787708</td>\n",
       "      <td>4.583667</td>\n",
       "    </tr>\n",
       "    <tr>\n",
       "      <th>7</th>\n",
       "      <td>451.0</td>\n",
       "      <td>3638.0</td>\n",
       "      <td>5202.0</td>\n",
       "      <td>0.119873</td>\n",
       "      <td>-0.204787</td>\n",
       "      <td>-0.129542</td>\n",
       "      <td>-1.168777</td>\n",
       "      <td>1.882055</td>\n",
       "      <td>-1.527403</td>\n",
       "      <td>2.690935</td>\n",
       "      <td>-1.408523</td>\n",
       "      <td>2.291629</td>\n",
       "      <td>-1.268319</td>\n",
       "      <td>2.973909</td>\n",
       "    </tr>\n",
       "    <tr>\n",
       "      <th>8</th>\n",
       "      <td>454.0</td>\n",
       "      <td>3630.0</td>\n",
       "      <td>5206.0</td>\n",
       "      <td>-0.147702</td>\n",
       "      <td>-0.270752</td>\n",
       "      <td>0.233624</td>\n",
       "      <td>1.563648</td>\n",
       "      <td>-6.183910</td>\n",
       "      <td>2.835763</td>\n",
       "      <td>6.980494</td>\n",
       "      <td>1.859052</td>\n",
       "      <td>-5.642406</td>\n",
       "      <td>2.368515</td>\n",
       "      <td>6.395520</td>\n",
       "    </tr>\n",
       "    <tr>\n",
       "      <th>9</th>\n",
       "      <td>454.0</td>\n",
       "      <td>3631.0</td>\n",
       "      <td>5205.0</td>\n",
       "      <td>0.044068</td>\n",
       "      <td>0.038563</td>\n",
       "      <td>-0.474408</td>\n",
       "      <td>1.755418</td>\n",
       "      <td>-4.874595</td>\n",
       "      <td>1.127731</td>\n",
       "      <td>5.302353</td>\n",
       "      <td>1.667282</td>\n",
       "      <td>-4.951721</td>\n",
       "      <td>2.076547</td>\n",
       "      <td>5.622403</td>\n",
       "    </tr>\n",
       "    <tr>\n",
       "      <th>10</th>\n",
       "      <td>453.0</td>\n",
       "      <td>3635.0</td>\n",
       "      <td>5204.0</td>\n",
       "      <td>0.093072</td>\n",
       "      <td>0.249553</td>\n",
       "      <td>0.094026</td>\n",
       "      <td>0.804422</td>\n",
       "      <td>-0.663605</td>\n",
       "      <td>0.696165</td>\n",
       "      <td>1.253839</td>\n",
       "      <td>0.618278</td>\n",
       "      <td>-1.162711</td>\n",
       "      <td>0.508113</td>\n",
       "      <td>1.411504</td>\n",
       "    </tr>\n",
       "    <tr>\n",
       "      <th>11</th>\n",
       "      <td>453.0</td>\n",
       "      <td>3635.0</td>\n",
       "      <td>5204.0</td>\n",
       "      <td>0.095198</td>\n",
       "      <td>0.250657</td>\n",
       "      <td>0.094791</td>\n",
       "      <td>0.806548</td>\n",
       "      <td>-0.662501</td>\n",
       "      <td>0.696930</td>\n",
       "      <td>1.255045</td>\n",
       "      <td>0.616152</td>\n",
       "      <td>-1.163815</td>\n",
       "      <td>0.507348</td>\n",
       "      <td>1.411209</td>\n",
       "    </tr>\n",
       "  </tbody>\n",
       "</table>\n",
       "</div>"
      ],
      "text/plain": [
       "    Xr без коррекции  ...  Расстояние от реал до (Ur-Δ)\n",
       "0              218.0  ...                    771.287612\n",
       "1              451.0  ...                      2.778468\n",
       "2              451.0  ...                      2.609950\n",
       "3              453.0  ...                      2.120202\n",
       "4              452.0  ...                      3.100364\n",
       "5              451.0  ...                      3.242332\n",
       "6              452.0  ...                      4.583667\n",
       "7              451.0  ...                      2.973909\n",
       "8              454.0  ...                      6.395520\n",
       "9              454.0  ...                      5.622403\n",
       "10             453.0  ...                      1.411504\n",
       "11             453.0  ...                      1.411209\n",
       "\n",
       "[12 rows x 14 columns]"
      ]
     },
     "execution_count": 93,
     "metadata": {
      "tags": []
     },
     "output_type": "execute_result"
    }
   ],
   "source": [
    "results[1]"
   ]
  },
  {
   "cell_type": "code",
   "execution_count": 94,
   "metadata": {
    "colab": {
     "base_uri": "https://localhost:8080/",
     "height": 456
    },
    "colab_type": "code",
    "id": "NL3hJLW8omQ0",
    "outputId": "db8747b3-ec3a-46c4-81e6-3d62d7e20b1e"
   },
   "outputs": [
    {
     "data": {
      "text/html": [
       "<div>\n",
       "<style scoped>\n",
       "    .dataframe tbody tr th:only-of-type {\n",
       "        vertical-align: middle;\n",
       "    }\n",
       "\n",
       "    .dataframe tbody tr th {\n",
       "        vertical-align: top;\n",
       "    }\n",
       "\n",
       "    .dataframe thead th {\n",
       "        text-align: right;\n",
       "    }\n",
       "</style>\n",
       "<table border=\"1\" class=\"dataframe\">\n",
       "  <thead>\n",
       "    <tr style=\"text-align: right;\">\n",
       "      <th></th>\n",
       "      <th>Xr без коррекции</th>\n",
       "      <th>Yr без коррекции</th>\n",
       "      <th>Zr без коррекции</th>\n",
       "      <th>ΔX</th>\n",
       "      <th>ΔY</th>\n",
       "      <th>ΔZ</th>\n",
       "      <th>Xr + ΔX - X реал.</th>\n",
       "      <th>Yr + ΔY - Y реал.</th>\n",
       "      <th>Zr + ΔZ - Z реал.</th>\n",
       "      <th>Расстояние от реал до (Ur+Δ)</th>\n",
       "      <th>Xr - ΔX - X реал.</th>\n",
       "      <th>Yr - ΔY - Y реал.</th>\n",
       "      <th>Zr - ΔZ - Z реал.</th>\n",
       "      <th>Расстояние от реал до (Ur-Δ)</th>\n",
       "    </tr>\n",
       "  </thead>\n",
       "  <tbody>\n",
       "    <tr>\n",
       "      <th>0</th>\n",
       "      <td>224.769369</td>\n",
       "      <td>4296.937722</td>\n",
       "      <td>4935.774798</td>\n",
       "      <td>7.078886</td>\n",
       "      <td>-20.715115</td>\n",
       "      <td>8.368222</td>\n",
       "      <td>-220.440396</td>\n",
       "      <td>640.309449</td>\n",
       "      <td>-259.254840</td>\n",
       "      <td>725.122908</td>\n",
       "      <td>-234.598167</td>\n",
       "      <td>681.739679</td>\n",
       "      <td>-275.991285</td>\n",
       "      <td>771.995129</td>\n",
       "    </tr>\n",
       "    <tr>\n",
       "      <th>1</th>\n",
       "      <td>465.106320</td>\n",
       "      <td>3617.720289</td>\n",
       "      <td>5213.336914</td>\n",
       "      <td>14.509693</td>\n",
       "      <td>-20.694632</td>\n",
       "      <td>11.404941</td>\n",
       "      <td>27.327363</td>\n",
       "      <td>-38.887501</td>\n",
       "      <td>21.343994</td>\n",
       "      <td>52.101714</td>\n",
       "      <td>-1.692023</td>\n",
       "      <td>2.501764</td>\n",
       "      <td>-1.465889</td>\n",
       "      <td>3.357171</td>\n",
       "    </tr>\n",
       "    <tr>\n",
       "      <th>2</th>\n",
       "      <td>429.216328</td>\n",
       "      <td>3662.113522</td>\n",
       "      <td>5186.504776</td>\n",
       "      <td>-20.951680</td>\n",
       "      <td>23.771103</td>\n",
       "      <td>-15.245688</td>\n",
       "      <td>-44.024003</td>\n",
       "      <td>49.971467</td>\n",
       "      <td>-32.138773</td>\n",
       "      <td>73.947015</td>\n",
       "      <td>-2.120642</td>\n",
       "      <td>2.429260</td>\n",
       "      <td>-1.647396</td>\n",
       "      <td>3.621097</td>\n",
       "    </tr>\n",
       "    <tr>\n",
       "      <th>3</th>\n",
       "      <td>460.037114</td>\n",
       "      <td>3617.223237</td>\n",
       "      <td>5212.076231</td>\n",
       "      <td>6.865290</td>\n",
       "      <td>-16.635756</td>\n",
       "      <td>7.822655</td>\n",
       "      <td>14.613754</td>\n",
       "      <td>-35.325677</td>\n",
       "      <td>16.501025</td>\n",
       "      <td>41.638313</td>\n",
       "      <td>0.883174</td>\n",
       "      <td>-2.054165</td>\n",
       "      <td>0.855715</td>\n",
       "      <td>2.394126</td>\n",
       "    </tr>\n",
       "    <tr>\n",
       "      <th>4</th>\n",
       "      <td>450.701445</td>\n",
       "      <td>3646.418483</td>\n",
       "      <td>5199.244396</td>\n",
       "      <td>-1.223761</td>\n",
       "      <td>7.632631</td>\n",
       "      <td>-2.903887</td>\n",
       "      <td>-2.810966</td>\n",
       "      <td>18.137956</td>\n",
       "      <td>-7.057352</td>\n",
       "      <td>19.664516</td>\n",
       "      <td>-0.363445</td>\n",
       "      <td>2.872694</td>\n",
       "      <td>-1.249579</td>\n",
       "      <td>3.153714</td>\n",
       "    </tr>\n",
       "    <tr>\n",
       "      <th>5</th>\n",
       "      <td>440.903399</td>\n",
       "      <td>3656.212342</td>\n",
       "      <td>5193.445213</td>\n",
       "      <td>-9.783621</td>\n",
       "      <td>17.456541</td>\n",
       "      <td>-8.442456</td>\n",
       "      <td>-21.168872</td>\n",
       "      <td>37.755726</td>\n",
       "      <td>-18.395104</td>\n",
       "      <td>47.031860</td>\n",
       "      <td>-1.601630</td>\n",
       "      <td>2.842643</td>\n",
       "      <td>-1.510192</td>\n",
       "      <td>3.595347</td>\n",
       "    </tr>\n",
       "    <tr>\n",
       "      <th>6</th>\n",
       "      <td>453.257335</td>\n",
       "      <td>3634.078072</td>\n",
       "      <td>5204.128728</td>\n",
       "      <td>1.739010</td>\n",
       "      <td>-6.037880</td>\n",
       "      <td>2.541448</td>\n",
       "      <td>2.707695</td>\n",
       "      <td>-7.872966</td>\n",
       "      <td>3.272316</td>\n",
       "      <td>8.945572</td>\n",
       "      <td>-0.770325</td>\n",
       "      <td>4.202794</td>\n",
       "      <td>-1.810581</td>\n",
       "      <td>4.640591</td>\n",
       "    </tr>\n",
       "    <tr>\n",
       "      <th>7</th>\n",
       "      <td>460.891372</td>\n",
       "      <td>3623.275674</td>\n",
       "      <td>5210.087844</td>\n",
       "      <td>10.157470</td>\n",
       "      <td>-15.151857</td>\n",
       "      <td>8.090084</td>\n",
       "      <td>18.760192</td>\n",
       "      <td>-27.789340</td>\n",
       "      <td>14.780067</td>\n",
       "      <td>36.642088</td>\n",
       "      <td>-1.554748</td>\n",
       "      <td>2.514373</td>\n",
       "      <td>-1.400101</td>\n",
       "      <td>3.271024</td>\n",
       "    </tr>\n",
       "    <tr>\n",
       "      <th>8</th>\n",
       "      <td>452.165917</td>\n",
       "      <td>3635.253177</td>\n",
       "      <td>5203.572921</td>\n",
       "      <td>-2.001787</td>\n",
       "      <td>5.045337</td>\n",
       "      <td>-2.219335</td>\n",
       "      <td>-2.124519</td>\n",
       "      <td>4.385356</td>\n",
       "      <td>-2.044275</td>\n",
       "      <td>5.284315</td>\n",
       "      <td>1.879054</td>\n",
       "      <td>-5.705318</td>\n",
       "      <td>2.394396</td>\n",
       "      <td>6.466423</td>\n",
       "    </tr>\n",
       "    <tr>\n",
       "      <th>9</th>\n",
       "      <td>449.769484</td>\n",
       "      <td>3643.754882</td>\n",
       "      <td>5199.677062</td>\n",
       "      <td>-4.305969</td>\n",
       "      <td>13.162765</td>\n",
       "      <td>-5.948737</td>\n",
       "      <td>-6.825134</td>\n",
       "      <td>21.004488</td>\n",
       "      <td>-9.669535</td>\n",
       "      <td>24.109560</td>\n",
       "      <td>1.786803</td>\n",
       "      <td>-5.321041</td>\n",
       "      <td>2.227938</td>\n",
       "      <td>6.039027</td>\n",
       "    </tr>\n",
       "    <tr>\n",
       "      <th>10</th>\n",
       "      <td>452.137268</td>\n",
       "      <td>3635.898328</td>\n",
       "      <td>5203.019610</td>\n",
       "      <td>-0.770131</td>\n",
       "      <td>1.148878</td>\n",
       "      <td>-0.886757</td>\n",
       "      <td>-0.921514</td>\n",
       "      <td>1.134048</td>\n",
       "      <td>-1.265008</td>\n",
       "      <td>1.932744</td>\n",
       "      <td>0.618749</td>\n",
       "      <td>-1.163708</td>\n",
       "      <td>0.508507</td>\n",
       "      <td>1.412673</td>\n",
       "    </tr>\n",
       "    <tr>\n",
       "      <th>11</th>\n",
       "      <td>456.713162</td>\n",
       "      <td>3628.142466</td>\n",
       "      <td>5206.866282</td>\n",
       "      <td>3.796615</td>\n",
       "      <td>-6.581847</td>\n",
       "      <td>2.951276</td>\n",
       "      <td>8.221127</td>\n",
       "      <td>-14.352540</td>\n",
       "      <td>6.419698</td>\n",
       "      <td>17.742459</td>\n",
       "      <td>0.627896</td>\n",
       "      <td>-1.188845</td>\n",
       "      <td>0.517145</td>\n",
       "      <td>1.440502</td>\n",
       "    </tr>\n",
       "  </tbody>\n",
       "</table>\n",
       "</div>"
      ],
      "text/plain": [
       "    Xr без коррекции  ...  Расстояние от реал до (Ur-Δ)\n",
       "0         224.769369  ...                    771.995129\n",
       "1         465.106320  ...                      3.357171\n",
       "2         429.216328  ...                      3.621097\n",
       "3         460.037114  ...                      2.394126\n",
       "4         450.701445  ...                      3.153714\n",
       "5         440.903399  ...                      3.595347\n",
       "6         453.257335  ...                      4.640591\n",
       "7         460.891372  ...                      3.271024\n",
       "8         452.165917  ...                      6.466423\n",
       "9         449.769484  ...                      6.039027\n",
       "10        452.137268  ...                      1.412673\n",
       "11        456.713162  ...                      1.440502\n",
       "\n",
       "[12 rows x 14 columns]"
      ]
     },
     "execution_count": 94,
     "metadata": {
      "tags": []
     },
     "output_type": "execute_result"
    }
   ],
   "source": [
    "results[2]"
   ]
  }
 ],
 "metadata": {
  "colab": {
   "collapsed_sections": [
    "RHpLOxs_vk0G",
    "OsREKvQHwFfM",
    "dc9EWJ-evslw",
    "IYSSlO8Ev4mu",
    "CFqpFTkKv7sL",
    "uqMzYa8Ev97b"
   ],
   "name": "Задача потребителя чист.ipynb",
   "provenance": []
  },
  "kernelspec": {
   "display_name": "Python 3",
   "language": "python",
   "name": "python3"
  },
  "language_info": {
   "codemirror_mode": {
    "name": "ipython",
    "version": 3
   },
   "file_extension": ".py",
   "mimetype": "text/x-python",
   "name": "python",
   "nbconvert_exporter": "python",
   "pygments_lexer": "ipython3",
   "version": "3.6.8"
  }
 },
 "nbformat": 4,
 "nbformat_minor": 1
}
