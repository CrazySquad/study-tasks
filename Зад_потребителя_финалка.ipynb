{
  "nbformat": 4,
  "nbformat_minor": 0,
  "metadata": {
    "colab": {
      "name": "Зад_потребителя_финалка.ipynb",
      "provenance": [],
      "collapsed_sections": [
        "OsREKvQHwFfM"
      ]
    },
    "kernelspec": {
      "name": "python3",
      "display_name": "Python 3"
    }
  },
  "cells": [
    {
      "cell_type": "markdown",
      "metadata": {
        "id": "0f6_Yw5QvXG6",
        "colab_type": "text"
      },
      "source": [
        "# Задача потребителя"
      ]
    },
    {
      "cell_type": "markdown",
      "metadata": {
        "id": "RHpLOxs_vk0G",
        "colab_type": "text"
      },
      "source": [
        "## Получение данных"
      ]
    },
    {
      "cell_type": "markdown",
      "metadata": {
        "id": "47i-wiPVRmPF",
        "colab_type": "text"
      },
      "source": [
        "Параметры модулирования:\n",
        "\n",
        "\n",
        ">  Станция\n",
        "    Novosibirsk(MRK)\n",
        "    \n",
        "    X\n",
        "    452.28865\n",
        "    Y\n",
        "    3635.913158\n",
        "    Z\n",
        "    5203.397861\n",
        "\n",
        ">  Спутники\n",
        "\n",
        "*   1. 1/2\n",
        "*   2. 2/1\n",
        "*   3. 3/12\n",
        "*   4. 4/6\n"
      ]
    },
    {
      "cell_type": "markdown",
      "metadata": {
        "id": "WFgCEkay7EyI",
        "colab_type": "text"
      },
      "source": [
        "Выполним импорты нужных модулей"
      ]
    },
    {
      "cell_type": "code",
      "metadata": {
        "id": "FEfnQS29whZ8",
        "colab_type": "code",
        "colab": {}
      },
      "source": [
        "import numpy as np\n",
        "import pandas as pd\n",
        "from scipy.optimize import fsolve"
      ],
      "execution_count": 0,
      "outputs": []
    },
    {
      "cell_type": "markdown",
      "metadata": {
        "id": "2pdBSqx17OhM",
        "colab_type": "text"
      },
      "source": [
        "Запомним координаты станции как вектор для проверки в конце"
      ]
    },
    {
      "cell_type": "code",
      "metadata": {
        "id": "VC4RFr2Lw1PZ",
        "colab_type": "code",
        "colab": {}
      },
      "source": [
        " required_coordinates = np.array([\n",
        "        452.28865,\n",
        "        3635.913158,\n",
        "        5203.397861,\n",
        " ])"
      ],
      "execution_count": 0,
      "outputs": []
    },
    {
      "cell_type": "markdown",
      "metadata": {
        "id": "OP4Qy0Lr7Zt3",
        "colab_type": "text"
      },
      "source": [
        "Загрузим excel-файл с данными модуляции"
      ]
    },
    {
      "cell_type": "code",
      "metadata": {
        "id": "nLA6G8tmTyup",
        "colab_type": "code",
        "outputId": "1e96dacb-4991-4b26-bc65-7596b5829f1e",
        "colab": {
          "resources": {
            "http://localhost:8080/nbextensions/google.colab/files.js": {
              "data": "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",
              "ok": true,
              "headers": [
                [
                  "content-type",
                  "application/javascript"
                ]
              ],
              "status": 200,
              "status_text": ""
            }
          },
          "base_uri": "https://localhost:8080/",
          "height": 93
        }
      },
      "source": [
        "from google.colab import files\n",
        "\n",
        "uploaded = files.upload()\n",
        "\n",
        "for fn in uploaded.keys():\n",
        "  print('Загруженный \"{name}\" размером {length} байт'.format(\n",
        "      name=fn, length=len(uploaded[fn])))"
      ],
      "execution_count": 4,
      "outputs": [
        {
          "output_type": "display_data",
          "data": {
            "text/html": [
              "\n",
              "     <input type=\"file\" id=\"files-aba81421-0e1a-44e5-9dac-dd7c7ce49218\" name=\"files[]\" multiple disabled />\n",
              "     <output id=\"result-aba81421-0e1a-44e5-9dac-dd7c7ce49218\">\n",
              "      Upload widget is only available when the cell has been executed in the\n",
              "      current browser session. Please rerun this cell to enable.\n",
              "      </output>\n",
              "      <script src=\"/nbextensions/google.colab/files.js\"></script> "
            ],
            "text/plain": [
              "<IPython.core.display.HTML object>"
            ]
          },
          "metadata": {
            "tags": []
          }
        },
        {
          "output_type": "stream",
          "text": [
            "Saving reports.xls to reports (1).xls\n",
            "Загруженный \"reports.xls\" размером 306688 байт\n"
          ],
          "name": "stdout"
        }
      ]
    },
    {
      "cell_type": "markdown",
      "metadata": {
        "id": "Y31lETBz71Mb",
        "colab_type": "text"
      },
      "source": [
        "Откроем файл в виде таблицы, чекнем превью"
      ]
    },
    {
      "cell_type": "code",
      "metadata": {
        "id": "XYp3Y-GbUrrO",
        "colab_type": "code",
        "outputId": "ae8fda42-e4dd-4759-91f6-f30ff7bbe350",
        "colab": {
          "base_uri": "https://localhost:8080/",
          "height": 195
        }
      },
      "source": [
        "mod_data = pd.read_excel(\"reports.xls\")\n",
        "mod_data.head()"
      ],
      "execution_count": 6,
      "outputs": [
        {
          "output_type": "execute_result",
          "data": {
            "text/html": [
              "<div>\n",
              "<style scoped>\n",
              "    .dataframe tbody tr th:only-of-type {\n",
              "        vertical-align: middle;\n",
              "    }\n",
              "\n",
              "    .dataframe tbody tr th {\n",
              "        vertical-align: top;\n",
              "    }\n",
              "\n",
              "    .dataframe thead th {\n",
              "        text-align: right;\n",
              "    }\n",
              "</style>\n",
              "<table border=\"1\" class=\"dataframe\">\n",
              "  <thead>\n",
              "    <tr style=\"text-align: right;\">\n",
              "      <th></th>\n",
              "      <th>Time_mom</th>\n",
              "      <th>N_Sat</th>\n",
              "      <th>P1</th>\n",
              "      <th>Sat_X</th>\n",
              "      <th>Sat_Y</th>\n",
              "      <th>Sat_Z</th>\n",
              "    </tr>\n",
              "  </thead>\n",
              "  <tbody>\n",
              "    <tr>\n",
              "      <th>0</th>\n",
              "      <td>01:47:00</td>\n",
              "      <td>1</td>\n",
              "      <td>23640.463423</td>\n",
              "      <td>-1403.143993</td>\n",
              "      <td>25077.821790</td>\n",
              "      <td>-4577.880104</td>\n",
              "    </tr>\n",
              "    <tr>\n",
              "      <th>1</th>\n",
              "      <td>01:47:30</td>\n",
              "      <td>1</td>\n",
              "      <td>23614.250832</td>\n",
              "      <td>-1400.494773</td>\n",
              "      <td>25096.862175</td>\n",
              "      <td>-4472.742878</td>\n",
              "    </tr>\n",
              "    <tr>\n",
              "      <th>2</th>\n",
              "      <td>01:48:00</td>\n",
              "      <td>1</td>\n",
              "      <td>23588.052424</td>\n",
              "      <td>-1397.739724</td>\n",
              "      <td>25115.469797</td>\n",
              "      <td>-4367.509327</td>\n",
              "    </tr>\n",
              "    <tr>\n",
              "      <th>3</th>\n",
              "      <td>01:48:30</td>\n",
              "      <td>1</td>\n",
              "      <td>23561.868740</td>\n",
              "      <td>-1394.880788</td>\n",
              "      <td>25133.643881</td>\n",
              "      <td>-4262.181717</td>\n",
              "    </tr>\n",
              "    <tr>\n",
              "      <th>4</th>\n",
              "      <td>01:49:00</td>\n",
              "      <td>1</td>\n",
              "      <td>23535.700307</td>\n",
              "      <td>-1391.919910</td>\n",
              "      <td>25151.383669</td>\n",
              "      <td>-4156.762322</td>\n",
              "    </tr>\n",
              "  </tbody>\n",
              "</table>\n",
              "</div>"
            ],
            "text/plain": [
              "   Time_mom  N_Sat            P1        Sat_X         Sat_Y        Sat_Z\n",
              "0  01:47:00      1  23640.463423 -1403.143993  25077.821790 -4577.880104\n",
              "1  01:47:30      1  23614.250832 -1400.494773  25096.862175 -4472.742878\n",
              "2  01:48:00      1  23588.052424 -1397.739724  25115.469797 -4367.509327\n",
              "3  01:48:30      1  23561.868740 -1394.880788  25133.643881 -4262.181717\n",
              "4  01:49:00      1  23535.700307 -1391.919910  25151.383669 -4156.762322"
            ]
          },
          "metadata": {
            "tags": []
          },
          "execution_count": 6
        }
      ]
    },
    {
      "cell_type": "markdown",
      "metadata": {
        "id": "me-Vxv_c8DYQ",
        "colab_type": "text"
      },
      "source": [
        "найдем моменты, когда одновременно в зоне видимости хотя бы три спутника"
      ]
    },
    {
      "cell_type": "code",
      "metadata": {
        "id": "GevbAqjShGF1",
        "colab_type": "code",
        "outputId": "cce53a4f-b24a-457c-e615-9984bdb21971",
        "colab": {
          "base_uri": "https://localhost:8080/",
          "height": 34
        }
      },
      "source": [
        "by_time = mod_data.groupby(by='Time_mom')['N_Sat'].count() \n",
        "observed_more_than_two = by_time[by_time>2]\n",
        "len(observed_more_than_two)"
      ],
      "execution_count": 7,
      "outputs": [
        {
          "output_type": "execute_result",
          "data": {
            "text/plain": [
              "405"
            ]
          },
          "metadata": {
            "tags": []
          },
          "execution_count": 7
        }
      ]
    },
    {
      "cell_type": "markdown",
      "metadata": {
        "id": "ou2mRdbY8Os6",
        "colab_type": "text"
      },
      "source": [
        "таких моментов около 400, а вот сразу четыре спутника никогда не видны"
      ]
    },
    {
      "cell_type": "code",
      "metadata": {
        "id": "RnotJu1xouS-",
        "colab_type": "code",
        "outputId": "05758c00-3941-4aa2-e7cd-88e4f9b2fc6d",
        "colab": {
          "base_uri": "https://localhost:8080/",
          "height": 34
        }
      },
      "source": [
        "len(observed_more_than_two[observed_more_than_two>3])   # одновременно 4 никогда не наблюдаются"
      ],
      "execution_count": 8,
      "outputs": [
        {
          "output_type": "execute_result",
          "data": {
            "text/plain": [
              "0"
            ]
          },
          "metadata": {
            "tags": []
          },
          "execution_count": 8
        }
      ]
    },
    {
      "cell_type": "markdown",
      "metadata": {
        "id": "BGw-JZHG8fEI",
        "colab_type": "text"
      },
      "source": [
        "возьмем какой-нибудь рандомный момент"
      ]
    },
    {
      "cell_type": "code",
      "metadata": {
        "id": "XVQTWlvFyWIS",
        "colab_type": "code",
        "outputId": "0ab9274b-79a8-4c2c-be98-ea5f4f0c0ec0",
        "colab": {
          "base_uri": "https://localhost:8080/",
          "height": 136
        }
      },
      "source": [
        "sample_time = observed_more_than_two.index[78]\n",
        "sample = mod_data[mod_data['Time_mom'] == sample_time]\n",
        "sample"
      ],
      "execution_count": 9,
      "outputs": [
        {
          "output_type": "execute_result",
          "data": {
            "text/html": [
              "<div>\n",
              "<style scoped>\n",
              "    .dataframe tbody tr th:only-of-type {\n",
              "        vertical-align: middle;\n",
              "    }\n",
              "\n",
              "    .dataframe tbody tr th {\n",
              "        vertical-align: top;\n",
              "    }\n",
              "\n",
              "    .dataframe thead th {\n",
              "        text-align: right;\n",
              "    }\n",
              "</style>\n",
              "<table border=\"1\" class=\"dataframe\">\n",
              "  <thead>\n",
              "    <tr style=\"text-align: right;\">\n",
              "      <th></th>\n",
              "      <th>Time_mom</th>\n",
              "      <th>N_Sat</th>\n",
              "      <th>P1</th>\n",
              "      <th>Sat_X</th>\n",
              "      <th>Sat_Y</th>\n",
              "      <th>Sat_Z</th>\n",
              "    </tr>\n",
              "  </thead>\n",
              "  <tbody>\n",
              "    <tr>\n",
              "      <th>785</th>\n",
              "      <td>05:25:00</td>\n",
              "      <td>2</td>\n",
              "      <td>19052.577323</td>\n",
              "      <td>2184.905275</td>\n",
              "      <td>15349.310978</td>\n",
              "      <td>20129.689073</td>\n",
              "    </tr>\n",
              "    <tr>\n",
              "      <th>786</th>\n",
              "      <td>05:25:00</td>\n",
              "      <td>1</td>\n",
              "      <td>21106.787484</td>\n",
              "      <td>-11915.881636</td>\n",
              "      <td>3162.669722</td>\n",
              "      <td>22300.104699</td>\n",
              "    </tr>\n",
              "    <tr>\n",
              "      <th>787</th>\n",
              "      <td>05:25:00</td>\n",
              "      <td>3</td>\n",
              "      <td>21880.141257</td>\n",
              "      <td>16211.479975</td>\n",
              "      <td>18786.485990</td>\n",
              "      <td>6124.669437</td>\n",
              "    </tr>\n",
              "  </tbody>\n",
              "</table>\n",
              "</div>"
            ],
            "text/plain": [
              "     Time_mom  N_Sat            P1         Sat_X         Sat_Y         Sat_Z\n",
              "785  05:25:00      2  19052.577323   2184.905275  15349.310978  20129.689073\n",
              "786  05:25:00      1  21106.787484 -11915.881636   3162.669722  22300.104699\n",
              "787  05:25:00      3  21880.141257  16211.479975  18786.485990   6124.669437"
            ]
          },
          "metadata": {
            "tags": []
          },
          "execution_count": 9
        }
      ]
    },
    {
      "cell_type": "markdown",
      "metadata": {
        "id": "OsREKvQHwFfM",
        "colab_type": "text"
      },
      "source": [
        "## Предустановки"
      ]
    },
    {
      "cell_type": "markdown",
      "metadata": {
        "id": "yiAN2KfI8v-m",
        "colab_type": "text"
      },
      "source": [
        "Выделение из записи таблицы вектора координат спутника и расстояния"
      ]
    },
    {
      "cell_type": "code",
      "metadata": {
        "id": "EH7pRX5-wZsX",
        "colab_type": "code",
        "colab": {}
      },
      "source": [
        "def get_Us_and_P(row):\n",
        "    return np.array([row['Sat_X'],\n",
        "                     row['Sat_Y'],\n",
        "                     row['Sat_Z'],]), row['P1']"
      ],
      "execution_count": 0,
      "outputs": []
    },
    {
      "cell_type": "markdown",
      "metadata": {
        "id": "YrO8w3sR8rLD",
        "colab_type": "text"
      },
      "source": [
        "Евклидово расстояние между двумя векторами"
      ]
    },
    {
      "cell_type": "code",
      "metadata": {
        "id": "_hYXvg601VBv",
        "colab_type": "code",
        "colab": {}
      },
      "source": [
        "def distance(v1,v2):\n",
        "    return np.sqrt(np.sum((v1-v2)**2))"
      ],
      "execution_count": 0,
      "outputs": []
    },
    {
      "cell_type": "markdown",
      "metadata": {
        "id": "dMZTtKox86zZ",
        "colab_type": "text"
      },
      "source": [
        "Так будем рассчитывать направляющие косинусы по три за раз (все парамеры - векторы)"
      ]
    },
    {
      "cell_type": "code",
      "metadata": {
        "id": "aIOsYp7Q1m_i",
        "colab_type": "code",
        "colab": {}
      },
      "source": [
        "def dir_cos(Us,Ur,Ro0):\n",
        "    return (Us-Ur)/Ro0"
      ],
      "execution_count": 0,
      "outputs": []
    },
    {
      "cell_type": "markdown",
      "metadata": {
        "id": "dc9EWJ-evslw",
        "colab_type": "text"
      },
      "source": [
        "## I способ расчета"
      ]
    },
    {
      "cell_type": "markdown",
      "metadata": {
        "id": "9j4EBIPm9Q8S",
        "colab_type": "text"
      },
      "source": [
        "Выделим нужные данные по спутникам из образца"
      ]
    },
    {
      "cell_type": "code",
      "metadata": {
        "id": "w0Rq-iBV2c3R",
        "colab_type": "code",
        "outputId": "0960d912-4f3a-4507-892e-b766a981203c",
        "colab": {
          "base_uri": "https://localhost:8080/",
          "height": 70
        }
      },
      "source": [
        "sat_data = [get_Us_and_P(sample.iloc[i]) for i in range(3)]\n",
        "sat_data"
      ],
      "execution_count": 13,
      "outputs": [
        {
          "output_type": "execute_result",
          "data": {
            "text/plain": [
              "[(array([ 2184.90527483, 15349.3109776 , 20129.68907288]), 19052.5773226953),\n",
              " (array([-11915.8816357 ,   3162.66972196,  22300.10469944]), 21106.787484125),\n",
              " (array([16211.47997461, 18786.48599038,  6124.66943681]), 21880.1412569171)]"
            ]
          },
          "metadata": {
            "tags": []
          },
          "execution_count": 13
        }
      ]
    },
    {
      "cell_type": "markdown",
      "metadata": {
        "id": "oLvrcd5Q98tx",
        "colab_type": "text"
      },
      "source": [
        "Так выглядит система уравнений, где неизвестные - координаты потребителя. Уравнения должны быть приведены к нулю."
      ]
    },
    {
      "cell_type": "code",
      "metadata": {
        "id": "P67w_ELO33LU",
        "colab_type": "code",
        "colab": {}
      },
      "source": [
        "def to_solve_Ur_0(v,Sat_data):\n",
        "    return [distance(v,u) - p for u,p in Sat_data]"
      ],
      "execution_count": 0,
      "outputs": []
    },
    {
      "cell_type": "markdown",
      "metadata": {
        "id": "FhplE2ZX-AVh",
        "colab_type": "text"
      },
      "source": [
        "При подстановке в систему искомых координат результат должен быть нулевым для каждого уравнения."
      ]
    },
    {
      "cell_type": "code",
      "metadata": {
        "id": "mPgLBvsK5WKa",
        "colab_type": "code",
        "outputId": "61d5f701-c7ad-4b1c-958c-4f7fdb075c94",
        "colab": {
          "base_uri": "https://localhost:8080/",
          "height": 34
        }
      },
      "source": [
        "to_solve_Ur_0(required_coordinates,sat_data)"
      ],
      "execution_count": 15,
      "outputs": [
        {
          "output_type": "execute_result",
          "data": {
            "text/plain": [
              "[-0.02321069562822231, -0.0828553766150435, 0.002930710372311296]"
            ]
          },
          "metadata": {
            "tags": []
          },
          "execution_count": 15
        }
      ]
    },
    {
      "cell_type": "markdown",
      "metadata": {
        "id": "OZ5oRs27-psB",
        "colab_type": "text"
      },
      "source": [
        "Посмотрим сколько времени займет решение системы"
      ]
    },
    {
      "cell_type": "code",
      "metadata": {
        "id": "cmqDeRKy2-27",
        "colab_type": "code",
        "outputId": "390139da-8e42-4dd7-a8ca-a8e3ee81b38c",
        "colab": {
          "base_uri": "https://localhost:8080/",
          "height": 70
        }
      },
      "source": [
        "%time Ur_0 = fsolve(to_solve_Ur_0, np.array([1.,1.,1.]), args=(sat_data))\n",
        "\n",
        "Ur_0              "
      ],
      "execution_count": 16,
      "outputs": [
        {
          "output_type": "stream",
          "text": [
            "CPU times: user 1.37 ms, sys: 0 ns, total: 1.37 ms\n",
            "Wall time: 3.64 ms\n"
          ],
          "name": "stdout"
        },
        {
          "output_type": "execute_result",
          "data": {
            "text/plain": [
              "array([ 450.6806568 , 3637.66420946, 5202.18098915])"
            ]
          },
          "metadata": {
            "tags": []
          },
          "execution_count": 16
        }
      ]
    },
    {
      "cell_type": "markdown",
      "metadata": {
        "id": "AQ1fqLpG-46G",
        "colab_type": "text"
      },
      "source": [
        "Разделим координаты и расстояния в  данных спутников. Введем опорные расстояния - с обрезанной дробной частью"
      ]
    },
    {
      "cell_type": "code",
      "metadata": {
        "id": "YkBAqj9FgRkM",
        "colab_type": "code",
        "outputId": "79e7fecc-b715-4ff5-c140-f7f7c7a94c5c",
        "colab": {
          "base_uri": "https://localhost:8080/",
          "height": 70
        }
      },
      "source": [
        "Ro = np.array([P_i for Us_i,P_i in sat_data])\n",
        "Ro_0 = Ro.astype(int).astype(np.float64)\n",
        "Us = [Us_i for Us_i,P in sat_data]\n",
        "Us"
      ],
      "execution_count": 17,
      "outputs": [
        {
          "output_type": "execute_result",
          "data": {
            "text/plain": [
              "[array([ 2184.90527483, 15349.3109776 , 20129.68907288]),\n",
              " array([-11915.8816357 ,   3162.66972196,  22300.10469944]),\n",
              " array([16211.47997461, 18786.48599038,  6124.66943681])]"
            ]
          },
          "metadata": {
            "tags": []
          },
          "execution_count": 17
        }
      ]
    },
    {
      "cell_type": "markdown",
      "metadata": {
        "id": "czXkG1Kh_MJC",
        "colab_type": "text"
      },
      "source": [
        "Ищем направляющие косинусы"
      ]
    },
    {
      "cell_type": "code",
      "metadata": {
        "id": "QZ4GvEnMg-zD",
        "colab_type": "code",
        "outputId": "a15004b6-fc43-446e-ae59-ffe621ec3954",
        "colab": {
          "base_uri": "https://localhost:8080/",
          "height": 70
        }
      },
      "source": [
        "dir_cosines = [dir_cos(*vals) for vals in zip(Us,[Ur_0]*3,Ro_0)]\n",
        "dir_cosines"
      ],
      "execution_count": 18,
      "outputs": [
        {
          "output_type": "execute_result",
          "data": {
            "text/plain": [
              "[array([0.09102586, 0.61472007, 0.78351397]),\n",
              " array([-0.58592639, -0.02250519,  0.81009778]),\n",
              " array([0.72032904, 0.69235931, 0.04216126])]"
            ]
          },
          "metadata": {
            "tags": []
          },
          "execution_count": 18
        }
      ]
    },
    {
      "cell_type": "markdown",
      "metadata": {
        "id": "j2lpK65e_qL-",
        "colab_type": "text"
      },
      "source": [
        "Так выглядит система уравнений для нахождения дельт."
      ]
    },
    {
      "cell_type": "code",
      "metadata": {
        "id": "di-6mnz7FjAe",
        "colab_type": "code",
        "colab": {}
      },
      "source": [
        "def to_solve_deltas(deltas,cosines,ro_0,ro):\n",
        "    return [(-p+p0+np.sum(np.array(deltas)*cos)) for cos,p0,p in zip(cosines,ro_0,ro)]"
      ],
      "execution_count": 0,
      "outputs": []
    },
    {
      "cell_type": "code",
      "metadata": {
        "id": "WGdSZ5r3JtyR",
        "colab_type": "code",
        "outputId": "a99918af-690b-4f70-cd23-61e16195cfdf",
        "colab": {
          "base_uri": "https://localhost:8080/",
          "height": 34
        }
      },
      "source": [
        "to_solve_deltas([.0,.0,.0,],dir_cosines,Ro_0,Ro)"
      ],
      "execution_count": 20,
      "outputs": [
        {
          "output_type": "execute_result",
          "data": {
            "text/plain": [
              "[-0.5773226952987898, -0.787484125001356, -0.14125691710069077]"
            ]
          },
          "metadata": {
            "tags": []
          },
          "execution_count": 20
        }
      ]
    },
    {
      "cell_type": "markdown",
      "metadata": {
        "id": "0Mhgvk4T_zZP",
        "colab_type": "text"
      },
      "source": [
        "Ищем дельты"
      ]
    },
    {
      "cell_type": "code",
      "metadata": {
        "id": "2vgzhyK4HMdY",
        "colab_type": "code",
        "outputId": "d77e0e26-f34d-4add-d575-59b9252f081a",
        "colab": {
          "base_uri": "https://localhost:8080/",
          "height": 70
        }
      },
      "source": [
        "%time deltas = fsolve(to_solve_deltas,[.0,.0,.0],args=(dir_cosines,Ro_0,Ro))\n",
        "deltas"
      ],
      "execution_count": 21,
      "outputs": [
        {
          "output_type": "stream",
          "text": [
            "CPU times: user 980 µs, sys: 0 ns, total: 980 µs\n",
            "Wall time: 1.12 ms\n"
          ],
          "name": "stdout"
        },
        {
          "output_type": "execute_result",
          "data": {
            "text/plain": [
              "array([ 8.81696817, -9.40075801,  7.08804881])"
            ]
          },
          "metadata": {
            "tags": []
          },
          "execution_count": 21
        }
      ]
    },
    {
      "cell_type": "markdown",
      "metadata": {
        "id": "TGRrM4Xl_9M5",
        "colab_type": "text"
      },
      "source": [
        "Смотрим результаты"
      ]
    },
    {
      "cell_type": "code",
      "metadata": {
        "id": "lFW--ZU8IiNs",
        "colab_type": "code",
        "outputId": "6d99c105-bc7f-484d-ce3b-8b6a61eb19b3",
        "colab": {
          "base_uri": "https://localhost:8080/",
          "height": 175
        }
      },
      "source": [
        "print('Без смещений')\n",
        "print('искомое\\n', required_coordinates)\n",
        "print('полученное\\n', Ur_0)\n",
        "print('разности в координатах\\n', abs(required_coordinates - Ur_0))\n",
        "print('расстояние между реальной и предполагаемой точками\\n', distance(required_coordinates,Ur_0))"
      ],
      "execution_count": 22,
      "outputs": [
        {
          "output_type": "stream",
          "text": [
            "Без смещений\n",
            "искомое\n",
            " [ 452.28865  3635.913158 5203.397861]\n",
            "полученное\n",
            " [ 450.6806568  3637.66420946 5202.18098915]\n",
            "разности в координатах\n",
            " [1.6079932  1.75105146 1.21687185]\n",
            "расстояние между реальной и предполагаемой точками\n",
            " 2.6706928744430445\n"
          ],
          "name": "stdout"
        }
      ]
    },
    {
      "cell_type": "code",
      "metadata": {
        "colab_type": "code",
        "outputId": "b1d4ea35-4619-4326-8806-655d3ba2d366",
        "id": "Ed6Xa8_5Mt7k",
        "colab": {
          "base_uri": "https://localhost:8080/",
          "height": 175
        }
      },
      "source": [
        "print('Со смещениями + delta')\n",
        "print('искомое\\n', required_coordinates)\n",
        "print('полученное\\n', Ur_0+deltas)\n",
        "print('разности в координатах\\n', abs(required_coordinates - Ur_0-deltas))\n",
        "print('расстояние между реальной и предполагаемой точками\\n', distance(required_coordinates,Ur_0+deltas))"
      ],
      "execution_count": 23,
      "outputs": [
        {
          "output_type": "stream",
          "text": [
            "Со смещениями + delta\n",
            "искомое\n",
            " [ 452.28865  3635.913158 5203.397861]\n",
            "полученное\n",
            " [ 459.49762497 3628.26345144 5209.26903796]\n",
            "разности в координатах\n",
            " [7.20897497 7.64970656 5.87117696]\n",
            "расстояние между реальной и предполагаемой точками\n",
            " 12.039852551265334\n"
          ],
          "name": "stdout"
        }
      ]
    },
    {
      "cell_type": "code",
      "metadata": {
        "colab_type": "code",
        "outputId": "c3d1f295-6e89-4067-cd03-2bf68a6c8ac6",
        "id": "FIa1D1RkSUFU",
        "colab": {
          "base_uri": "https://localhost:8080/",
          "height": 175
        }
      },
      "source": [
        "print('Со смещениями - delta')\n",
        "print('искомое\\n', required_coordinates)\n",
        "print('полученное\\n', Ur_0-deltas)\n",
        "print('разности в координатах\\n', abs(required_coordinates - Ur_0+deltas))\n",
        "print('расстояние между реальной и предполагаемой точками\\n', distance(required_coordinates,Ur_0-deltas))"
      ],
      "execution_count": 24,
      "outputs": [
        {
          "output_type": "stream",
          "text": [
            "Со смещениями - delta\n",
            "искомое\n",
            " [ 452.28865  3635.913158 5203.397861]\n",
            "полученное\n",
            " [ 441.86368863 3647.06496747 5195.09294034]\n",
            "разности в координатах\n",
            " [10.42496137 11.15180947  8.30492066]\n",
            "расстояние между реальной и предполагаемой точками\n",
            " 17.37856096396465\n"
          ],
          "name": "stdout"
        }
      ]
    },
    {
      "cell_type": "markdown",
      "metadata": {
        "id": "IYSSlO8Ev4mu",
        "colab_type": "text"
      },
      "source": [
        "## II способ расчета"
      ]
    },
    {
      "cell_type": "markdown",
      "metadata": {
        "id": "jkYZoewDAGVR",
        "colab_type": "text"
      },
      "source": [
        "Воспользуемся некоторыми переменными, полученными ранее"
      ]
    },
    {
      "cell_type": "code",
      "metadata": {
        "id": "uhWQ1H3iNkfs",
        "colab_type": "code",
        "outputId": "fea553eb-574e-4d5f-a0fe-675b47c46c59",
        "colab": {
          "base_uri": "https://localhost:8080/",
          "height": 90
        }
      },
      "source": [
        "print(sat_data)\n",
        "print(Us)\n",
        "print(Ro)"
      ],
      "execution_count": 25,
      "outputs": [
        {
          "output_type": "stream",
          "text": [
            "[(array([ 2184.90527483, 15349.3109776 , 20129.68907288]), 19052.5773226953), (array([-11915.8816357 ,   3162.66972196,  22300.10469944]), 21106.787484125), (array([16211.47997461, 18786.48599038,  6124.66943681]), 21880.1412569171)]\n",
            "[array([ 2184.90527483, 15349.3109776 , 20129.68907288]), array([-11915.8816357 ,   3162.66972196,  22300.10469944]), array([16211.47997461, 18786.48599038,  6124.66943681])]\n",
            "[19052.5773227  21106.78748413 21880.14125692]\n"
          ],
          "name": "stdout"
        }
      ]
    },
    {
      "cell_type": "markdown",
      "metadata": {
        "id": "LrnAzdhJAPHd",
        "colab_type": "text"
      },
      "source": [
        "Решая систему уравнений, ищем координаты потребителя. Берем только целочисленную часть и называем их опорными координатами."
      ]
    },
    {
      "cell_type": "code",
      "metadata": {
        "colab_type": "code",
        "outputId": "d3c63936-eb33-48c9-8418-aa90e4321473",
        "id": "ecZvXFKAOgDd",
        "colab": {
          "base_uri": "https://localhost:8080/",
          "height": 70
        }
      },
      "source": [
        "%time Ur_0 = fsolve(to_solve_Ur_0, np.array([1.,1.,1.]), args=(sat_data)).astype(int).astype(np.float64)\n",
        "Ur_0              "
      ],
      "execution_count": 26,
      "outputs": [
        {
          "output_type": "stream",
          "text": [
            "CPU times: user 814 µs, sys: 984 µs, total: 1.8 ms\n",
            "Wall time: 2 ms\n"
          ],
          "name": "stdout"
        },
        {
          "output_type": "execute_result",
          "data": {
            "text/plain": [
              "array([ 450., 3637., 5202.])"
            ]
          },
          "metadata": {
            "tags": []
          },
          "execution_count": 26
        }
      ]
    },
    {
      "cell_type": "markdown",
      "metadata": {
        "id": "uhexNUTnAgXP",
        "colab_type": "text"
      },
      "source": [
        "Вводим опорные расстояния как евклидовы расстояния между неточными координатами потребителя и координатами каждого спутника"
      ]
    },
    {
      "cell_type": "code",
      "metadata": {
        "id": "Zt9u26g9OSir",
        "colab_type": "code",
        "outputId": "bbd643d0-e612-4ac7-9c8c-010b2924eb31",
        "colab": {
          "base_uri": "https://localhost:8080/",
          "height": 34
        }
      },
      "source": [
        "Ro_0 = np.array([distance(Ur_0,Us_i) for Us_i in Us])\n",
        "Ro_0"
      ],
      "execution_count": 27,
      "outputs": [
        {
          "output_type": "execute_result",
          "data": {
            "text/plain": [
              "array([19053.18938669, 21106.52037058, 21881.09905038])"
            ]
          },
          "metadata": {
            "tags": []
          },
          "execution_count": 27
        }
      ]
    },
    {
      "cell_type": "markdown",
      "metadata": {
        "id": "QYjHWG_dA13t",
        "colab_type": "text"
      },
      "source": [
        "Ищем направляющие косинусы"
      ]
    },
    {
      "cell_type": "code",
      "metadata": {
        "colab_type": "code",
        "outputId": "7163437b-c560-4986-9cf6-79d135d48bee",
        "id": "xFss0fHiQjmn",
        "colab": {
          "base_uri": "https://localhost:8080/",
          "height": 70
        }
      },
      "source": [
        "dir_cosines = [dir_cos(*vals) for vals in zip(Us,[Ur_0]*3,Ro_0)]\n",
        "dir_cosines"
      ],
      "execution_count": 28,
      "outputs": [
        {
          "output_type": "execute_result",
          "data": {
            "text/plain": [
              "[array([0.0910559 , 0.61471656, 0.78347455]),\n",
              " array([-0.58587969, -0.02247316,  0.81008638]),\n",
              " array([0.72032396, 0.69235489, 0.04216742])]"
            ]
          },
          "metadata": {
            "tags": []
          },
          "execution_count": 28
        }
      ]
    },
    {
      "cell_type": "markdown",
      "metadata": {
        "id": "NyImbb3pA6Zd",
        "colab_type": "text"
      },
      "source": [
        "Посмотрим, сколько времени займет решение системы уравнений для поиска дельт"
      ]
    },
    {
      "cell_type": "code",
      "metadata": {
        "colab_type": "code",
        "outputId": "61aa5256-7a61-4459-a04c-04fa846130f7",
        "id": "WvaGJtBuRLlD",
        "colab": {
          "base_uri": "https://localhost:8080/",
          "height": 70
        }
      },
      "source": [
        "%time deltas = fsolve(to_solve_deltas,[.0,.0,.0],args=(dir_cosines,Ro_0,Ro))\n",
        "deltas"
      ],
      "execution_count": 29,
      "outputs": [
        {
          "output_type": "stream",
          "text": [
            "CPU times: user 1.1 ms, sys: 0 ns, total: 1.1 ms\n",
            "Wall time: 1.54 ms\n"
          ],
          "name": "stdout"
        },
        {
          "output_type": "execute_result",
          "data": {
            "text/plain": [
              "array([-0.6805129 , -0.66436613, -0.1808641 ])"
            ]
          },
          "metadata": {
            "tags": []
          },
          "execution_count": 29
        }
      ]
    },
    {
      "cell_type": "markdown",
      "metadata": {
        "id": "kspsh4AmBDqU",
        "colab_type": "text"
      },
      "source": [
        "Смотрим результаты для того самого образца"
      ]
    },
    {
      "cell_type": "code",
      "metadata": {
        "colab_type": "code",
        "outputId": "ca44a989-c964-490b-a714-4b4e0b815748",
        "id": "onVGIxQDRcXI",
        "colab": {
          "base_uri": "https://localhost:8080/",
          "height": 175
        }
      },
      "source": [
        "print('Без смещений')\n",
        "print('искомое\\n', required_coordinates)\n",
        "print('полученное\\n', Ur_0)\n",
        "print('разности в координатах\\n', abs(required_coordinates - Ur_0))\n",
        "print('расстояние между реальной и предполагаемой точками\\n', distance(required_coordinates,Ur_0))"
      ],
      "execution_count": 30,
      "outputs": [
        {
          "output_type": "stream",
          "text": [
            "Без смещений\n",
            "искомое\n",
            " [ 452.28865  3635.913158 5203.397861]\n",
            "полученное\n",
            " [ 450. 3637. 5202.]\n",
            "разности в координатах\n",
            " [2.28865  1.086842 1.397861]\n",
            "расстояние между реальной и предполагаемой точками\n",
            " 2.8936412581359288\n"
          ],
          "name": "stdout"
        }
      ]
    },
    {
      "cell_type": "code",
      "metadata": {
        "colab_type": "code",
        "outputId": "540f7a04-215d-4d3a-f3d6-b8082948848e",
        "id": "odNtYGzXRcXc",
        "colab": {
          "base_uri": "https://localhost:8080/",
          "height": 175
        }
      },
      "source": [
        "print('Со смещениями - delta')\n",
        "print('искомое\\n', required_coordinates)\n",
        "print('полученное\\n', Ur_0-deltas)\n",
        "print('разности в координатах\\n', abs(required_coordinates - Ur_0+deltas))\n",
        "print('расстояние между реальной и предполагаемой точками\\n', distance(required_coordinates,Ur_0-deltas))"
      ],
      "execution_count": 31,
      "outputs": [
        {
          "output_type": "stream",
          "text": [
            "Со смещениями - delta\n",
            "искомое\n",
            " [ 452.28865  3635.913158 5203.397861]\n",
            "полученное\n",
            " [ 450.6805129  3637.66436613 5202.1808641 ]\n",
            "разности в координатах\n",
            " [1.6081371  1.75120813 1.2169969 ]\n",
            "расстояние между реальной и предполагаемой точками\n",
            " 2.6709392194085\n"
          ],
          "name": "stdout"
        }
      ]
    },
    {
      "cell_type": "code",
      "metadata": {
        "colab_type": "code",
        "outputId": "ee76356d-d22f-4b93-e2e5-bcf791867a03",
        "id": "gq3nz5c8SF5E",
        "colab": {
          "base_uri": "https://localhost:8080/",
          "height": 175
        }
      },
      "source": [
        "print('Со смещениями + delta')\n",
        "print('искомое\\n', required_coordinates)\n",
        "print('полученное\\n', Ur_0+deltas)\n",
        "print('разности в координатах\\n', abs(required_coordinates - Ur_0-deltas))\n",
        "print('расстояние между реальной и предполагаемой точками\\n', distance(required_coordinates,Ur_0+deltas))"
      ],
      "execution_count": 32,
      "outputs": [
        {
          "output_type": "stream",
          "text": [
            "Со смещениями + delta\n",
            "искомое\n",
            " [ 452.28865  3635.913158 5203.397861]\n",
            "полученное\n",
            " [ 449.3194871  3636.33563387 5201.8191359 ]\n",
            "разности в координатах\n",
            " [2.9691629  0.42247587 1.5787251 ]\n",
            "расстояние между реальной и предполагаемой точками\n",
            " 3.3892162980614353\n"
          ],
          "name": "stdout"
        }
      ]
    },
    {
      "cell_type": "markdown",
      "metadata": {
        "id": "CFqpFTkKv7sL",
        "colab_type": "text"
      },
      "source": [
        "## III способ расчета"
      ]
    },
    {
      "cell_type": "markdown",
      "metadata": {
        "id": "llNoRQgIBQnR",
        "colab_type": "text"
      },
      "source": [
        "Введем опорные расстояния - целочисленные части расстояний от каждого спутника до потребителя (станции)"
      ]
    },
    {
      "cell_type": "code",
      "metadata": {
        "id": "BeNOklFtSvF6",
        "colab_type": "code",
        "colab": {}
      },
      "source": [
        "Ro_0 = Ro.astype(int).astype(np.float64)"
      ],
      "execution_count": 0,
      "outputs": []
    },
    {
      "cell_type": "markdown",
      "metadata": {
        "id": "WkVjevA9Bnjx",
        "colab_type": "text"
      },
      "source": [
        "Ищем опорные координаты потребителя"
      ]
    },
    {
      "cell_type": "code",
      "metadata": {
        "colab_type": "code",
        "outputId": "79e84253-6aa0-42fc-fb48-bcb3af14d15b",
        "id": "DO5aGWxCTfw-",
        "colab": {
          "base_uri": "https://localhost:8080/",
          "height": 70
        }
      },
      "source": [
        "%time Ur_0 = fsolve(to_solve_Ur_0, np.array([1.,1.,1.]), args=(list(zip(Us,Ro_0))))\n",
        "Ur_0              "
      ],
      "execution_count": 34,
      "outputs": [
        {
          "output_type": "stream",
          "text": [
            "CPU times: user 1.81 ms, sys: 0 ns, total: 1.81 ms\n",
            "Wall time: 1.93 ms\n"
          ],
          "name": "stdout"
        },
        {
          "output_type": "execute_result",
          "data": {
            "text/plain": [
              "array([ 459.61470208, 3628.14362089, 5209.3568971 ])"
            ]
          },
          "metadata": {
            "tags": []
          },
          "execution_count": 34
        }
      ]
    },
    {
      "cell_type": "markdown",
      "metadata": {
        "id": "kUONAo0zBxRn",
        "colab_type": "text"
      },
      "source": [
        "Ищем направлющие косинусы"
      ]
    },
    {
      "cell_type": "code",
      "metadata": {
        "colab_type": "code",
        "outputId": "51a2e79e-3d46-49a9-fef7-c76828a34588",
        "id": "xUAjwn64TfxX",
        "colab": {
          "base_uri": "https://localhost:8080/",
          "height": 70
        }
      },
      "source": [
        "dir_cosines = [dir_cos(*vals) for vals in zip(Us,[Ur_0]*3,Ro_0)]\n",
        "dir_cosines"
      ],
      "execution_count": 35,
      "outputs": [
        {
          "output_type": "execute_result",
          "data": {
            "text/plain": [
              "[array([0.09055693, 0.61521979, 0.78313732]),\n",
              " array([-0.58634968, -0.0220541 ,  0.80975778]),\n",
              " array([0.71992072, 0.69279444, 0.0418333 ])]"
            ]
          },
          "metadata": {
            "tags": []
          },
          "execution_count": 35
        }
      ]
    },
    {
      "cell_type": "markdown",
      "metadata": {
        "id": "1eMsUS_kB190",
        "colab_type": "text"
      },
      "source": [
        "Ищем дельты"
      ]
    },
    {
      "cell_type": "code",
      "metadata": {
        "colab_type": "code",
        "outputId": "d73cf89d-0294-480f-8ddf-05cc2256c79d",
        "id": "xGmO3fzOTfxl",
        "colab": {
          "base_uri": "https://localhost:8080/",
          "height": 70
        }
      },
      "source": [
        "%time deltas = fsolve(to_solve_deltas,[.0,.0,.0],args=(dir_cosines,Ro_0,Ro))\n",
        "deltas"
      ],
      "execution_count": 36,
      "outputs": [
        {
          "output_type": "stream",
          "text": [
            "CPU times: user 1.2 ms, sys: 214 µs, total: 1.41 ms\n",
            "Wall time: 3.04 ms\n"
          ],
          "name": "stdout"
        },
        {
          "output_type": "execute_result",
          "data": {
            "text/plain": [
              "array([ 9.05382819, -9.64316787,  7.26578006])"
            ]
          },
          "metadata": {
            "tags": []
          },
          "execution_count": 36
        }
      ]
    },
    {
      "cell_type": "markdown",
      "metadata": {
        "id": "Y3oyIvruB4IO",
        "colab_type": "text"
      },
      "source": [
        "смотрим результаты"
      ]
    },
    {
      "cell_type": "code",
      "metadata": {
        "colab_type": "code",
        "outputId": "e42647ba-f12e-48b9-d17a-557cc4e42b19",
        "id": "nmmfBiayTfxx",
        "colab": {
          "base_uri": "https://localhost:8080/",
          "height": 175
        }
      },
      "source": [
        "print('Без смещений')\n",
        "print('искомое\\n', required_coordinates)\n",
        "print('полученное\\n', Ur_0)\n",
        "print('разности в координатах\\n', abs(required_coordinates - Ur_0))\n",
        "print('расстояние между реальной и предполагаемой точками\\n', distance(required_coordinates,Ur_0))"
      ],
      "execution_count": 37,
      "outputs": [
        {
          "output_type": "stream",
          "text": [
            "Без смещений\n",
            "искомое\n",
            " [ 452.28865  3635.913158 5203.397861]\n",
            "полученное\n",
            " [ 459.61470208 3628.14362089 5209.3568971 ]\n",
            "разности в координатах\n",
            " [7.32605208 7.76953711 5.9590361 ]\n",
            "расстояние между реальной и предполагаемой точками\n",
            " 12.228935242532412\n"
          ],
          "name": "stdout"
        }
      ]
    },
    {
      "cell_type": "code",
      "metadata": {
        "colab_type": "code",
        "outputId": "f96d4754-3a15-47a1-d2ce-d6e8f70aa5bc",
        "id": "CTMB1adZTfx5",
        "colab": {
          "base_uri": "https://localhost:8080/",
          "height": 175
        }
      },
      "source": [
        "print('Со смещениями - delta')\n",
        "print('искомое\\n', required_coordinates)\n",
        "print('полученное\\n', Ur_0-deltas)\n",
        "print('разности в координатах\\n', abs(required_coordinates - Ur_0+deltas))\n",
        "print('расстояние между реальной и предполагаемой точками\\n', distance(required_coordinates,Ur_0-deltas))"
      ],
      "execution_count": 38,
      "outputs": [
        {
          "output_type": "stream",
          "text": [
            "Со смещениями - delta\n",
            "искомое\n",
            " [ 452.28865  3635.913158 5203.397861]\n",
            "полученное\n",
            " [ 450.56087389 3637.78678876 5202.09111704]\n",
            "разности в координатах\n",
            " [1.72777611 1.87363076 1.30674396]\n",
            "расстояние между реальной и предполагаемой точками\n",
            " 2.8641372644435443\n"
          ],
          "name": "stdout"
        }
      ]
    },
    {
      "cell_type": "code",
      "metadata": {
        "colab_type": "code",
        "outputId": "55aea5df-519e-40f6-cacf-b29d38ed55ba",
        "id": "kfX1S51zTfx_",
        "colab": {
          "base_uri": "https://localhost:8080/",
          "height": 175
        }
      },
      "source": [
        "print('Со смещениями + delta')\n",
        "print('искомое\\n', required_coordinates)\n",
        "print('полученное\\n', Ur_0+deltas)\n",
        "print('разности в координатах\\n', abs(required_coordinates - Ur_0-deltas))\n",
        "print('расстояние между реальной и предполагаемой точками\\n', distance(required_coordinates,Ur_0+deltas))"
      ],
      "execution_count": 39,
      "outputs": [
        {
          "output_type": "stream",
          "text": [
            "Со смещениями + delta\n",
            "искомое\n",
            " [ 452.28865  3635.913158 5203.397861]\n",
            "полученное\n",
            " [ 468.66853027 3618.50045303 5216.62267716]\n",
            "разности в координатах\n",
            " [16.37988027 17.41270497 13.22481616]\n",
            "расстояние между реальной и предполагаемой точками\n",
            " 27.320295284129973\n"
          ],
          "name": "stdout"
        }
      ]
    },
    {
      "cell_type": "code",
      "metadata": {
        "id": "Iw-nwVyjz5e7",
        "colab_type": "code",
        "colab": {
          "base_uri": "https://localhost:8080/",
          "height": 34
        },
        "outputId": "3e80979b-a983-4181-c442-4c58c97f1418"
      },
      "source": [
        "np.array([ 452.28865,  -3635.913158, 5203.397861]).astype(int).astype(np.float64)"
      ],
      "execution_count": 40,
      "outputs": [
        {
          "output_type": "execute_result",
          "data": {
            "text/plain": [
              "array([  452., -3635.,  5203.])"
            ]
          },
          "metadata": {
            "tags": []
          },
          "execution_count": 40
        }
      ]
    },
    {
      "cell_type": "markdown",
      "metadata": {
        "id": "uqMzYa8Ev97b",
        "colab_type": "text"
      },
      "source": [
        "## Результаты"
      ]
    },
    {
      "cell_type": "markdown",
      "metadata": {
        "id": "_Q3geb_8B_qv",
        "colab_type": "text"
      },
      "source": [
        "Дельта отображается без косяков"
      ]
    },
    {
      "cell_type": "code",
      "metadata": {
        "id": "8UGVxA9pVjY9",
        "colab_type": "code",
        "outputId": "eb66052a-3d7b-4884-f8f6-25c2a132f5c8",
        "colab": {
          "base_uri": "https://localhost:8080/",
          "height": 34
        }
      },
      "source": [
        "print('Δ','δ')"
      ],
      "execution_count": 41,
      "outputs": [
        {
          "output_type": "stream",
          "text": [
            "Δ δ\n"
          ],
          "name": "stdout"
        }
      ]
    },
    {
      "cell_type": "markdown",
      "metadata": {
        "id": "ZoX5r1bdCKoJ",
        "colab_type": "text"
      },
      "source": [
        "Напишем функции, соответствующие 1,2,3-му методам.\n",
        "\n",
        "На входе у них список выборок из таблиц (данных о спутниках в опр момент времени)\n",
        "\n",
        "На выходе - найденные координаты потребителя и дельты"
      ]
    },
    {
      "cell_type": "code",
      "metadata": {
        "id": "0cdd-WL5XEoO",
        "colab_type": "code",
        "colab": {}
      },
      "source": [
        "def ingot():\n",
        "    return    {'Xr без коррекции':[],\n",
        "               'Yr без коррекции':[],\n",
        "               'Zr без коррекции':[],\n",
        "               'ΔX':[],\n",
        "               'ΔY':[],\n",
        "               'ΔZ':[],}"
      ],
      "execution_count": 0,
      "outputs": []
    },
    {
      "cell_type": "code",
      "metadata": {
        "id": "5X-IVU6UVtjd",
        "colab_type": "code",
        "colab": {}
      },
      "source": [
        "def method_1(samples: list):\n",
        "    res = ingot()\n",
        "    for sample in samples:\n",
        "        sat_data = [get_Us_and_P(sample.iloc[i]) for i in range(3)]\n",
        "        Ur_0 = fsolve(to_solve_Ur_0, np.array([1.,1.,1.]), args=(sat_data))\n",
        "        Ro = np.array([P_i for Us_i,P_i in sat_data])\n",
        "        Ro_0 = np.floor(Ro)\n",
        "        Us = [Us_i for Us_i,P in sat_data]\n",
        "        dir_cosines = [dir_cos(*vals) for vals in zip(Us,[Ur_0]*3,Ro_0)]\n",
        "        deltas = fsolve(to_solve_deltas,[.0,.0,.0],args=(dir_cosines,Ro_0,Ro))\n",
        "        for i,ax in enumerate(('X','Y','Z')):\n",
        "           res[ax+'r без коррекции'].append(Ur_0[i])\n",
        "           res['Δ'+ax].append(deltas[i])\n",
        "    return res"
      ],
      "execution_count": 0,
      "outputs": []
    },
    {
      "cell_type": "code",
      "metadata": {
        "id": "8ZM3DAVddFeN",
        "colab_type": "code",
        "colab": {}
      },
      "source": [
        "def method_2(samples: list):\n",
        "    res = ingot()\n",
        "    for sample in samples:\n",
        "        sat_data = [get_Us_and_P(sample.iloc[i]) for i in range(3)]\n",
        "        Ro = np.array([P_i for Us_i,P_i in sat_data])\n",
        "        Us = [Us_i for Us_i,P in sat_data]\n",
        "        Ur_0 = np.floor(fsolve(to_solve_Ur_0, np.array([1.,1.,1.]), args=(sat_data)))\n",
        "        Ro_0 = np.array([distance(Ur_0,Us_i) for Us_i in Us])\n",
        "        dir_cosines = [dir_cos(*vals) for vals in zip(Us,[Ur_0]*3,Ro_0)]\n",
        "        deltas = fsolve(to_solve_deltas,[.0,.0,.0],args=(dir_cosines,Ro_0,Ro))\n",
        "        for i,ax in enumerate(('X','Y','Z')):\n",
        "           res[ax+'r без коррекции'].append(Ur_0[i])\n",
        "           res['Δ'+ax].append(deltas[i])\n",
        "    return res"
      ],
      "execution_count": 0,
      "outputs": []
    },
    {
      "cell_type": "code",
      "metadata": {
        "id": "5SEIZKoPeYY8",
        "colab_type": "code",
        "colab": {}
      },
      "source": [
        "def method_3(samples: list):\n",
        "    res = ingot()\n",
        "    for sample in samples:\n",
        "        sat_data = [get_Us_and_P(sample.iloc[i]) for i in range(3)]\n",
        "        Ro = np.array([P_i for Us_i,P_i in sat_data])\n",
        "        Us = [Us_i for Us_i,P in sat_data]\n",
        "        Ro_0 = np.floor(Ro)\n",
        "        Ur_0 = fsolve(to_solve_Ur_0, np.array([1.,1.,1.]), args=(list(zip(Us,Ro_0))))\n",
        "        dir_cosines = [dir_cos(*vals) for vals in zip(Us,[Ur_0]*3,Ro_0)]\n",
        "        deltas = fsolve(to_solve_deltas,[.0,.0,.0],args=(dir_cosines,Ro_0,Ro))\n",
        "        for i,ax in enumerate(('X','Y','Z')):\n",
        "           res[ax+'r без коррекции'].append(Ur_0[i])\n",
        "           res['Δ'+ax].append(deltas[i])\n",
        "    return res"
      ],
      "execution_count": 0,
      "outputs": []
    },
    {
      "cell_type": "code",
      "metadata": {
        "id": "oUSm96umZiym",
        "colab_type": "code",
        "colab": {}
      },
      "source": [
        "from random import sample as some_samples"
      ],
      "execution_count": 0,
      "outputs": []
    },
    {
      "cell_type": "markdown",
      "metadata": {
        "id": "1lFmUtQ0C5o8",
        "colab_type": "text"
      },
      "source": [
        "Выберем список из 12 моментов времени, глянем превью"
      ]
    },
    {
      "cell_type": "code",
      "metadata": {
        "id": "jcroIsO9Z6BM",
        "colab_type": "code",
        "outputId": "f97928c9-f694-4fea-f6ec-d0df6eee3d88",
        "colab": {
          "base_uri": "https://localhost:8080/",
          "height": 298
        }
      },
      "source": [
        "n_sample_time = some_samples(observed_more_than_two.index.to_list(), 12)\n",
        "samples = [mod_data[mod_data['Time_mom'] == sample_time] for sample_time in n_sample_time]\n",
        "samples[4:8]"
      ],
      "execution_count": 47,
      "outputs": [
        {
          "output_type": "execute_result",
          "data": {
            "text/plain": [
              "[     Time_mom  N_Sat            P1         Sat_X         Sat_Y         Sat_Z\n",
              " 989  05:59:00      2  19229.039986  -2387.906537  11335.717867  22593.069238\n",
              " 990  05:59:00      1  22502.501863 -16551.387248   -453.214231  19363.615199\n",
              " 991  05:59:00      3  20625.332488  14322.636232  16923.566654  12717.123746,\n",
              "      Time_mom  N_Sat            P1         Sat_X         Sat_Y         Sat_Z\n",
              " 854  05:36:30      2  19047.152234    775.188087  13961.171437  21205.824546\n",
              " 855  05:36:30      1  21555.207230 -13483.185776   1797.208424  21544.902119\n",
              " 856  05:36:30      3  21419.485318  15767.870829  18252.538300   8456.348608,\n",
              "       Time_mom  N_Sat            P1         Sat_X         Sat_Y         Sat_Z\n",
              " 1380  07:04:30      2  20922.612073 -13202.848088   5713.618322  20918.765632\n",
              " 1381  07:04:30      3  19322.975899   5987.220552  12559.046839  21424.336160\n",
              " 1382  07:04:30      4  21869.145032  19894.414228  12608.552221   9648.054238,\n",
              "       Time_mom  N_Sat            P1         Sat_X         Sat_Y         Sat_Z\n",
              " 1362  07:01:30      2  20816.869924 -12704.482658   5880.709577  21178.350226\n",
              " 1363  07:01:30      3  19346.436994   6481.450308  12731.620371  21178.416364\n",
              " 1364  07:01:30      4  21989.040124  20101.441194  12722.328054   9059.005855]"
            ]
          },
          "metadata": {
            "tags": []
          },
          "execution_count": 47
        }
      ]
    },
    {
      "cell_type": "markdown",
      "metadata": {
        "id": "mQGExMAiDGSg",
        "colab_type": "text"
      },
      "source": [
        "составим удобоваримые таблички для результатов расчета тремя методами по 12 образцов каждый"
      ]
    },
    {
      "cell_type": "code",
      "metadata": {
        "id": "FtfLEReJbNuI",
        "colab_type": "code",
        "colab": {}
      },
      "source": [
        "results = [pd.DataFrame(eval('method_'+str(i+1)+'(samples)')) for i in range(3)]\n",
        "\n",
        "for df in results:\n",
        "    to_pop = list()\n",
        "    for sign in ('+','-'):\n",
        "        for i,ax in enumerate(('X','Y','Z')):\n",
        "            tmp = eval(\"df[ax+'r без коррекции']\"+sign+\n",
        "                       \"df['Δ'+ax] - required_coordinates[i]\" )\n",
        "            df['{a}r {s} Δ{a} - {a} реал.'.format(a=ax,s=sign)] = tmp\n",
        "            hs = str(i)+sign\n",
        "            to_pop.append(hs)\n",
        "            df[hs] = tmp**2\n",
        "        df['Расстояние от реал до (Ur{s}Δ)'.format(s=sign)] = np.sqrt(\n",
        "            df['0'+sign]+df['1'+sign]+df['2'+sign]\n",
        "        )\n",
        "    for hs in to_pop:\n",
        "        df.pop(hs)\n",
        "    to_pop.clear()"
      ],
      "execution_count": 0,
      "outputs": []
    },
    {
      "cell_type": "code",
      "metadata": {
        "id": "UiTc5cRgi_7L",
        "colab_type": "code",
        "outputId": "d133ab95-9092-49a6-80a5-adc576be4615",
        "colab": {
          "base_uri": "https://localhost:8080/",
          "height": 456
        }
      },
      "source": [
        "results[0]"
      ],
      "execution_count": 49,
      "outputs": [
        {
          "output_type": "execute_result",
          "data": {
            "text/html": [
              "<div>\n",
              "<style scoped>\n",
              "    .dataframe tbody tr th:only-of-type {\n",
              "        vertical-align: middle;\n",
              "    }\n",
              "\n",
              "    .dataframe tbody tr th {\n",
              "        vertical-align: top;\n",
              "    }\n",
              "\n",
              "    .dataframe thead th {\n",
              "        text-align: right;\n",
              "    }\n",
              "</style>\n",
              "<table border=\"1\" class=\"dataframe\">\n",
              "  <thead>\n",
              "    <tr style=\"text-align: right;\">\n",
              "      <th></th>\n",
              "      <th>Xr без коррекции</th>\n",
              "      <th>Yr без коррекции</th>\n",
              "      <th>Zr без коррекции</th>\n",
              "      <th>ΔX</th>\n",
              "      <th>ΔY</th>\n",
              "      <th>ΔZ</th>\n",
              "      <th>Xr + ΔX - X реал.</th>\n",
              "      <th>Yr + ΔY - Y реал.</th>\n",
              "      <th>Zr + ΔZ - Z реал.</th>\n",
              "      <th>Расстояние от реал до (Ur+Δ)</th>\n",
              "      <th>Xr - ΔX - X реал.</th>\n",
              "      <th>Yr - ΔY - Y реал.</th>\n",
              "      <th>Zr - ΔZ - Z реал.</th>\n",
              "      <th>Расстояние от реал до (Ur-Δ)</th>\n",
              "    </tr>\n",
              "  </thead>\n",
              "  <tbody>\n",
              "    <tr>\n",
              "      <th>0</th>\n",
              "      <td>187.033453</td>\n",
              "      <td>4390.551656</td>\n",
              "      <td>4899.142178</td>\n",
              "      <td>21.719833</td>\n",
              "      <td>-62.496578</td>\n",
              "      <td>23.746687</td>\n",
              "      <td>-243.535365</td>\n",
              "      <td>692.141920</td>\n",
              "      <td>-280.508995</td>\n",
              "      <td>785.528617</td>\n",
              "      <td>-286.975030</td>\n",
              "      <td>817.135076</td>\n",
              "      <td>-328.002370</td>\n",
              "      <td>926.093923</td>\n",
              "    </tr>\n",
              "    <tr>\n",
              "      <th>1</th>\n",
              "      <td>452.217320</td>\n",
              "      <td>3637.885684</td>\n",
              "      <td>5202.530910</td>\n",
              "      <td>1.121106</td>\n",
              "      <td>-18.963251</td>\n",
              "      <td>8.973653</td>\n",
              "      <td>1.049776</td>\n",
              "      <td>-16.990725</td>\n",
              "      <td>8.106702</td>\n",
              "      <td>18.854850</td>\n",
              "      <td>-1.192437</td>\n",
              "      <td>20.935776</td>\n",
              "      <td>-9.840605</td>\n",
              "      <td>23.163897</td>\n",
              "    </tr>\n",
              "    <tr>\n",
              "      <th>2</th>\n",
              "      <td>452.884814</td>\n",
              "      <td>3634.830897</td>\n",
              "      <td>5203.876359</td>\n",
              "      <td>-6.326843</td>\n",
              "      <td>12.263342</td>\n",
              "      <td>-5.685782</td>\n",
              "      <td>-5.730679</td>\n",
              "      <td>11.181081</td>\n",
              "      <td>-5.207284</td>\n",
              "      <td>13.600480</td>\n",
              "      <td>6.923006</td>\n",
              "      <td>-13.345603</td>\n",
              "      <td>6.164280</td>\n",
              "      <td>16.249046</td>\n",
              "    </tr>\n",
              "    <tr>\n",
              "      <th>3</th>\n",
              "      <td>453.103848</td>\n",
              "      <td>3634.015538</td>\n",
              "      <td>5204.193854</td>\n",
              "      <td>-2.046376</td>\n",
              "      <td>5.604268</td>\n",
              "      <td>-1.835282</td>\n",
              "      <td>-1.231178</td>\n",
              "      <td>3.706648</td>\n",
              "      <td>-1.039290</td>\n",
              "      <td>4.041678</td>\n",
              "      <td>2.861574</td>\n",
              "      <td>-7.501888</td>\n",
              "      <td>2.631275</td>\n",
              "      <td>8.449292</td>\n",
              "    </tr>\n",
              "    <tr>\n",
              "      <th>4</th>\n",
              "      <td>450.889587</td>\n",
              "      <td>3638.069510</td>\n",
              "      <td>5202.168596</td>\n",
              "      <td>17.201832</td>\n",
              "      <td>-25.423317</td>\n",
              "      <td>14.105143</td>\n",
              "      <td>15.802769</td>\n",
              "      <td>-23.266965</td>\n",
              "      <td>12.875879</td>\n",
              "      <td>30.933274</td>\n",
              "      <td>-18.600895</td>\n",
              "      <td>27.579669</td>\n",
              "      <td>-15.334408</td>\n",
              "      <td>36.630254</td>\n",
              "    </tr>\n",
              "    <tr>\n",
              "      <th>5</th>\n",
              "      <td>450.819970</td>\n",
              "      <td>3637.716767</td>\n",
              "      <td>5202.228786</td>\n",
              "      <td>13.604227</td>\n",
              "      <td>-15.794098</td>\n",
              "      <td>10.093762</td>\n",
              "      <td>12.135547</td>\n",
              "      <td>-13.990489</td>\n",
              "      <td>8.924687</td>\n",
              "      <td>20.558583</td>\n",
              "      <td>-15.072907</td>\n",
              "      <td>17.597707</td>\n",
              "      <td>-11.262837</td>\n",
              "      <td>25.762828</td>\n",
              "    </tr>\n",
              "    <tr>\n",
              "      <th>6</th>\n",
              "      <td>210.281750</td>\n",
              "      <td>4335.417911</td>\n",
              "      <td>4920.509242</td>\n",
              "      <td>-7.395363</td>\n",
              "      <td>22.155377</td>\n",
              "      <td>-7.308530</td>\n",
              "      <td>-249.402263</td>\n",
              "      <td>721.660129</td>\n",
              "      <td>-290.197149</td>\n",
              "      <td>816.828756</td>\n",
              "      <td>-234.611537</td>\n",
              "      <td>677.349376</td>\n",
              "      <td>-275.580089</td>\n",
              "      <td>767.977302</td>\n",
              "    </tr>\n",
              "    <tr>\n",
              "      <th>7</th>\n",
              "      <td>163.284556</td>\n",
              "      <td>4445.452919</td>\n",
              "      <td>4877.961314</td>\n",
              "      <td>6.771102</td>\n",
              "      <td>-20.371702</td>\n",
              "      <td>8.249860</td>\n",
              "      <td>-282.232992</td>\n",
              "      <td>789.168059</td>\n",
              "      <td>-317.186687</td>\n",
              "      <td>896.130059</td>\n",
              "      <td>-295.775196</td>\n",
              "      <td>829.911462</td>\n",
              "      <td>-333.686407</td>\n",
              "      <td>942.116033</td>\n",
              "    </tr>\n",
              "    <tr>\n",
              "      <th>8</th>\n",
              "      <td>450.621827</td>\n",
              "      <td>3637.671201</td>\n",
              "      <td>5202.153284</td>\n",
              "      <td>36.496748</td>\n",
              "      <td>-37.488674</td>\n",
              "      <td>26.301766</td>\n",
              "      <td>34.829925</td>\n",
              "      <td>-35.730631</td>\n",
              "      <td>25.057189</td>\n",
              "      <td>55.836049</td>\n",
              "      <td>-38.163571</td>\n",
              "      <td>39.246716</td>\n",
              "      <td>-27.546342</td>\n",
              "      <td>61.282655</td>\n",
              "    </tr>\n",
              "    <tr>\n",
              "      <th>9</th>\n",
              "      <td>450.892094</td>\n",
              "      <td>3638.076712</td>\n",
              "      <td>5202.167899</td>\n",
              "      <td>-2.589598</td>\n",
              "      <td>4.223653</td>\n",
              "      <td>-1.377652</td>\n",
              "      <td>-3.986154</td>\n",
              "      <td>6.387207</td>\n",
              "      <td>-2.607614</td>\n",
              "      <td>7.967778</td>\n",
              "      <td>1.193042</td>\n",
              "      <td>-2.060100</td>\n",
              "      <td>0.147690</td>\n",
              "      <td>2.385199</td>\n",
              "    </tr>\n",
              "    <tr>\n",
              "      <th>10</th>\n",
              "      <td>452.061263</td>\n",
              "      <td>3638.371372</td>\n",
              "      <td>5202.325396</td>\n",
              "      <td>1.266388</td>\n",
              "      <td>-8.642681</td>\n",
              "      <td>4.050520</td>\n",
              "      <td>1.039002</td>\n",
              "      <td>-6.184467</td>\n",
              "      <td>2.978055</td>\n",
              "      <td>6.942331</td>\n",
              "      <td>-1.493775</td>\n",
              "      <td>11.100895</td>\n",
              "      <td>-5.122984</td>\n",
              "      <td>12.316908</td>\n",
              "    </tr>\n",
              "    <tr>\n",
              "      <th>11</th>\n",
              "      <td>450.603553</td>\n",
              "      <td>3637.662481</td>\n",
              "      <td>5202.147762</td>\n",
              "      <td>15.447045</td>\n",
              "      <td>-15.795831</td>\n",
              "      <td>11.762779</td>\n",
              "      <td>13.761949</td>\n",
              "      <td>-14.046507</td>\n",
              "      <td>10.512680</td>\n",
              "      <td>22.298252</td>\n",
              "      <td>-17.132142</td>\n",
              "      <td>17.545154</td>\n",
              "      <td>-13.012879</td>\n",
              "      <td>27.761083</td>\n",
              "    </tr>\n",
              "  </tbody>\n",
              "</table>\n",
              "</div>"
            ],
            "text/plain": [
              "    Xr без коррекции  ...  Расстояние от реал до (Ur-Δ)\n",
              "0         187.033453  ...                    926.093923\n",
              "1         452.217320  ...                     23.163897\n",
              "2         452.884814  ...                     16.249046\n",
              "3         453.103848  ...                      8.449292\n",
              "4         450.889587  ...                     36.630254\n",
              "5         450.819970  ...                     25.762828\n",
              "6         210.281750  ...                    767.977302\n",
              "7         163.284556  ...                    942.116033\n",
              "8         450.621827  ...                     61.282655\n",
              "9         450.892094  ...                      2.385199\n",
              "10        452.061263  ...                     12.316908\n",
              "11        450.603553  ...                     27.761083\n",
              "\n",
              "[12 rows x 14 columns]"
            ]
          },
          "metadata": {
            "tags": []
          },
          "execution_count": 49
        }
      ]
    },
    {
      "cell_type": "code",
      "metadata": {
        "colab_type": "code",
        "id": "4X8QinBRol5d",
        "outputId": "421ccbc6-f636-40c9-8d72-3e07a88fa57f",
        "colab": {
          "base_uri": "https://localhost:8080/",
          "height": 456
        }
      },
      "source": [
        "results[1]"
      ],
      "execution_count": 50,
      "outputs": [
        {
          "output_type": "execute_result",
          "data": {
            "text/html": [
              "<div>\n",
              "<style scoped>\n",
              "    .dataframe tbody tr th:only-of-type {\n",
              "        vertical-align: middle;\n",
              "    }\n",
              "\n",
              "    .dataframe tbody tr th {\n",
              "        vertical-align: top;\n",
              "    }\n",
              "\n",
              "    .dataframe thead th {\n",
              "        text-align: right;\n",
              "    }\n",
              "</style>\n",
              "<table border=\"1\" class=\"dataframe\">\n",
              "  <thead>\n",
              "    <tr style=\"text-align: right;\">\n",
              "      <th></th>\n",
              "      <th>Xr без коррекции</th>\n",
              "      <th>Yr без коррекции</th>\n",
              "      <th>Zr без коррекции</th>\n",
              "      <th>ΔX</th>\n",
              "      <th>ΔY</th>\n",
              "      <th>ΔZ</th>\n",
              "      <th>Xr + ΔX - X реал.</th>\n",
              "      <th>Yr + ΔY - Y реал.</th>\n",
              "      <th>Zr + ΔZ - Z реал.</th>\n",
              "      <th>Расстояние от реал до (Ur+Δ)</th>\n",
              "      <th>Xr - ΔX - X реал.</th>\n",
              "      <th>Yr - ΔY - Y реал.</th>\n",
              "      <th>Zr - ΔZ - Z реал.</th>\n",
              "      <th>Расстояние от реал до (Ur-Δ)</th>\n",
              "    </tr>\n",
              "  </thead>\n",
              "  <tbody>\n",
              "    <tr>\n",
              "      <th>0</th>\n",
              "      <td>187.0</td>\n",
              "      <td>4390.0</td>\n",
              "      <td>4899.0</td>\n",
              "      <td>-0.033301</td>\n",
              "      <td>-0.552095</td>\n",
              "      <td>-0.142007</td>\n",
              "      <td>-265.321951</td>\n",
              "      <td>753.534747</td>\n",
              "      <td>-304.539868</td>\n",
              "      <td>854.958995</td>\n",
              "      <td>-265.255349</td>\n",
              "      <td>754.638937</td>\n",
              "      <td>-304.255854</td>\n",
              "      <td>855.810697</td>\n",
              "    </tr>\n",
              "    <tr>\n",
              "      <th>1</th>\n",
              "      <td>452.0</td>\n",
              "      <td>3637.0</td>\n",
              "      <td>5202.0</td>\n",
              "      <td>-0.217298</td>\n",
              "      <td>-0.886119</td>\n",
              "      <td>-0.530710</td>\n",
              "      <td>-0.505948</td>\n",
              "      <td>0.200723</td>\n",
              "      <td>-1.928571</td>\n",
              "      <td>2.003911</td>\n",
              "      <td>-0.071352</td>\n",
              "      <td>1.972961</td>\n",
              "      <td>-0.867151</td>\n",
              "      <td>2.156297</td>\n",
              "    </tr>\n",
              "    <tr>\n",
              "      <th>2</th>\n",
              "      <td>452.0</td>\n",
              "      <td>3634.0</td>\n",
              "      <td>5203.0</td>\n",
              "      <td>-0.885536</td>\n",
              "      <td>-0.829567</td>\n",
              "      <td>-0.876970</td>\n",
              "      <td>-1.174186</td>\n",
              "      <td>-2.742725</td>\n",
              "      <td>-1.274831</td>\n",
              "      <td>3.244449</td>\n",
              "      <td>0.596886</td>\n",
              "      <td>-1.083591</td>\n",
              "      <td>0.479109</td>\n",
              "      <td>1.326645</td>\n",
              "    </tr>\n",
              "    <tr>\n",
              "      <th>3</th>\n",
              "      <td>453.0</td>\n",
              "      <td>3634.0</td>\n",
              "      <td>5204.0</td>\n",
              "      <td>-0.103869</td>\n",
              "      <td>-0.015487</td>\n",
              "      <td>-0.193876</td>\n",
              "      <td>0.607481</td>\n",
              "      <td>-1.928645</td>\n",
              "      <td>0.408263</td>\n",
              "      <td>2.062858</td>\n",
              "      <td>0.815219</td>\n",
              "      <td>-1.897671</td>\n",
              "      <td>0.796015</td>\n",
              "      <td>2.213453</td>\n",
              "    </tr>\n",
              "    <tr>\n",
              "      <th>4</th>\n",
              "      <td>450.0</td>\n",
              "      <td>3638.0</td>\n",
              "      <td>5202.0</td>\n",
              "      <td>-0.889689</td>\n",
              "      <td>-0.069357</td>\n",
              "      <td>-0.168657</td>\n",
              "      <td>-3.178339</td>\n",
              "      <td>2.017485</td>\n",
              "      <td>-1.566518</td>\n",
              "      <td>4.077507</td>\n",
              "      <td>-1.398961</td>\n",
              "      <td>2.156199</td>\n",
              "      <td>-1.229204</td>\n",
              "      <td>2.849075</td>\n",
              "    </tr>\n",
              "    <tr>\n",
              "      <th>5</th>\n",
              "      <td>450.0</td>\n",
              "      <td>3637.0</td>\n",
              "      <td>5202.0</td>\n",
              "      <td>-0.819977</td>\n",
              "      <td>-0.716765</td>\n",
              "      <td>-0.228759</td>\n",
              "      <td>-3.108627</td>\n",
              "      <td>0.370077</td>\n",
              "      <td>-1.626620</td>\n",
              "      <td>3.527947</td>\n",
              "      <td>-1.468673</td>\n",
              "      <td>1.803607</td>\n",
              "      <td>-1.169102</td>\n",
              "      <td>2.603228</td>\n",
              "    </tr>\n",
              "    <tr>\n",
              "      <th>6</th>\n",
              "      <td>210.0</td>\n",
              "      <td>4335.0</td>\n",
              "      <td>4920.0</td>\n",
              "      <td>-0.281429</td>\n",
              "      <td>-0.418869</td>\n",
              "      <td>-0.508876</td>\n",
              "      <td>-242.570079</td>\n",
              "      <td>698.667973</td>\n",
              "      <td>-283.906737</td>\n",
              "      <td>792.199605</td>\n",
              "      <td>-242.007221</td>\n",
              "      <td>699.505711</td>\n",
              "      <td>-282.888985</td>\n",
              "      <td>792.402620</td>\n",
              "    </tr>\n",
              "    <tr>\n",
              "      <th>7</th>\n",
              "      <td>163.0</td>\n",
              "      <td>4445.0</td>\n",
              "      <td>4877.0</td>\n",
              "      <td>-0.283830</td>\n",
              "      <td>-0.455012</td>\n",
              "      <td>-0.960531</td>\n",
              "      <td>-289.572480</td>\n",
              "      <td>808.631830</td>\n",
              "      <td>-327.358392</td>\n",
              "      <td>919.185060</td>\n",
              "      <td>-289.004820</td>\n",
              "      <td>809.541854</td>\n",
              "      <td>-325.437330</td>\n",
              "      <td>919.125266</td>\n",
              "    </tr>\n",
              "    <tr>\n",
              "      <th>8</th>\n",
              "      <td>450.0</td>\n",
              "      <td>3637.0</td>\n",
              "      <td>5202.0</td>\n",
              "      <td>-0.621652</td>\n",
              "      <td>-0.671384</td>\n",
              "      <td>-0.153140</td>\n",
              "      <td>-2.910302</td>\n",
              "      <td>0.415458</td>\n",
              "      <td>-1.551001</td>\n",
              "      <td>3.323864</td>\n",
              "      <td>-1.666998</td>\n",
              "      <td>1.758226</td>\n",
              "      <td>-1.244721</td>\n",
              "      <td>2.723889</td>\n",
              "    </tr>\n",
              "    <tr>\n",
              "      <th>9</th>\n",
              "      <td>450.0</td>\n",
              "      <td>3638.0</td>\n",
              "      <td>5202.0</td>\n",
              "      <td>-0.892201</td>\n",
              "      <td>-0.076550</td>\n",
              "      <td>-0.167964</td>\n",
              "      <td>-3.180851</td>\n",
              "      <td>2.010292</td>\n",
              "      <td>-1.565825</td>\n",
              "      <td>4.075647</td>\n",
              "      <td>-1.396449</td>\n",
              "      <td>2.163392</td>\n",
              "      <td>-1.229897</td>\n",
              "      <td>2.853591</td>\n",
              "    </tr>\n",
              "    <tr>\n",
              "      <th>10</th>\n",
              "      <td>452.0</td>\n",
              "      <td>3638.0</td>\n",
              "      <td>5202.0</td>\n",
              "      <td>-0.061243</td>\n",
              "      <td>-0.371553</td>\n",
              "      <td>-0.325318</td>\n",
              "      <td>-0.349893</td>\n",
              "      <td>1.715289</td>\n",
              "      <td>-1.723179</td>\n",
              "      <td>2.456417</td>\n",
              "      <td>-0.227407</td>\n",
              "      <td>2.458395</td>\n",
              "      <td>-1.072543</td>\n",
              "      <td>2.691797</td>\n",
              "    </tr>\n",
              "    <tr>\n",
              "      <th>11</th>\n",
              "      <td>450.0</td>\n",
              "      <td>3637.0</td>\n",
              "      <td>5202.0</td>\n",
              "      <td>-0.603363</td>\n",
              "      <td>-0.662678</td>\n",
              "      <td>-0.147609</td>\n",
              "      <td>-2.892013</td>\n",
              "      <td>0.424164</td>\n",
              "      <td>-1.545470</td>\n",
              "      <td>3.306377</td>\n",
              "      <td>-1.685287</td>\n",
              "      <td>1.749520</td>\n",
              "      <td>-1.250252</td>\n",
              "      <td>2.732059</td>\n",
              "    </tr>\n",
              "  </tbody>\n",
              "</table>\n",
              "</div>"
            ],
            "text/plain": [
              "    Xr без коррекции  ...  Расстояние от реал до (Ur-Δ)\n",
              "0              187.0  ...                    855.810697\n",
              "1              452.0  ...                      2.156297\n",
              "2              452.0  ...                      1.326645\n",
              "3              453.0  ...                      2.213453\n",
              "4              450.0  ...                      2.849075\n",
              "5              450.0  ...                      2.603228\n",
              "6              210.0  ...                    792.402620\n",
              "7              163.0  ...                    919.125266\n",
              "8              450.0  ...                      2.723889\n",
              "9              450.0  ...                      2.853591\n",
              "10             452.0  ...                      2.691797\n",
              "11             450.0  ...                      2.732059\n",
              "\n",
              "[12 rows x 14 columns]"
            ]
          },
          "metadata": {
            "tags": []
          },
          "execution_count": 50
        }
      ]
    },
    {
      "cell_type": "code",
      "metadata": {
        "colab_type": "code",
        "id": "NL3hJLW8omQ0",
        "outputId": "b2edb09a-b800-4892-b1f8-6f95f0a84316",
        "colab": {
          "base_uri": "https://localhost:8080/",
          "height": 456
        }
      },
      "source": [
        "results[2]"
      ],
      "execution_count": 51,
      "outputs": [
        {
          "output_type": "execute_result",
          "data": {
            "text/html": [
              "<div>\n",
              "<style scoped>\n",
              "    .dataframe tbody tr th:only-of-type {\n",
              "        vertical-align: middle;\n",
              "    }\n",
              "\n",
              "    .dataframe tbody tr th {\n",
              "        vertical-align: top;\n",
              "    }\n",
              "\n",
              "    .dataframe thead th {\n",
              "        text-align: right;\n",
              "    }\n",
              "</style>\n",
              "<table border=\"1\" class=\"dataframe\">\n",
              "  <thead>\n",
              "    <tr style=\"text-align: right;\">\n",
              "      <th></th>\n",
              "      <th>Xr без коррекции</th>\n",
              "      <th>Yr без коррекции</th>\n",
              "      <th>Zr без коррекции</th>\n",
              "      <th>ΔX</th>\n",
              "      <th>ΔY</th>\n",
              "      <th>ΔZ</th>\n",
              "      <th>Xr + ΔX - X реал.</th>\n",
              "      <th>Yr + ΔY - Y реал.</th>\n",
              "      <th>Zr + ΔZ - Z реал.</th>\n",
              "      <th>Расстояние от реал до (Ur+Δ)</th>\n",
              "      <th>Xr - ΔX - X реал.</th>\n",
              "      <th>Yr - ΔY - Y реал.</th>\n",
              "      <th>Zr - ΔZ - Z реал.</th>\n",
              "      <th>Расстояние от реал до (Ur-Δ)</th>\n",
              "    </tr>\n",
              "  </thead>\n",
              "  <tbody>\n",
              "    <tr>\n",
              "      <th>0</th>\n",
              "      <td>210.905955</td>\n",
              "      <td>4321.932319</td>\n",
              "      <td>4925.357779</td>\n",
              "      <td>26.495830</td>\n",
              "      <td>-76.080742</td>\n",
              "      <td>29.224377</td>\n",
              "      <td>-214.886865</td>\n",
              "      <td>609.938419</td>\n",
              "      <td>-248.815705</td>\n",
              "      <td>692.900061</td>\n",
              "      <td>-267.878524</td>\n",
              "      <td>762.099903</td>\n",
              "      <td>-307.264459</td>\n",
              "      <td>864.272303</td>\n",
              "    </tr>\n",
              "    <tr>\n",
              "      <th>1</th>\n",
              "      <td>453.351541</td>\n",
              "      <td>3618.723116</td>\n",
              "      <td>5211.601925</td>\n",
              "      <td>1.147580</td>\n",
              "      <td>-19.365474</td>\n",
              "      <td>9.170132</td>\n",
              "      <td>2.210470</td>\n",
              "      <td>-36.555516</td>\n",
              "      <td>17.374196</td>\n",
              "      <td>40.534610</td>\n",
              "      <td>-0.084689</td>\n",
              "      <td>2.175433</td>\n",
              "      <td>-0.966068</td>\n",
              "      <td>2.381799</td>\n",
              "    </tr>\n",
              "    <tr>\n",
              "      <th>2</th>\n",
              "      <td>446.519832</td>\n",
              "      <td>3647.172856</td>\n",
              "      <td>5198.159686</td>\n",
              "      <td>-6.403443</td>\n",
              "      <td>12.421260</td>\n",
              "      <td>-5.747809</td>\n",
              "      <td>-12.172261</td>\n",
              "      <td>23.680957</td>\n",
              "      <td>-10.985984</td>\n",
              "      <td>28.803533</td>\n",
              "      <td>0.634624</td>\n",
              "      <td>-1.161562</td>\n",
              "      <td>0.509634</td>\n",
              "      <td>1.418345</td>\n",
              "    </tr>\n",
              "    <tr>\n",
              "      <th>3</th>\n",
              "      <td>451.047561</td>\n",
              "      <td>3639.644925</td>\n",
              "      <td>5202.348653</td>\n",
              "      <td>-2.066356</td>\n",
              "      <td>5.654881</td>\n",
              "      <td>-1.855292</td>\n",
              "      <td>-3.307444</td>\n",
              "      <td>9.386648</td>\n",
              "      <td>-2.904500</td>\n",
              "      <td>10.367472</td>\n",
              "      <td>0.825267</td>\n",
              "      <td>-1.923114</td>\n",
              "      <td>0.806084</td>\n",
              "      <td>2.242588</td>\n",
              "    </tr>\n",
              "    <tr>\n",
              "      <th>4</th>\n",
              "      <td>468.551844</td>\n",
              "      <td>3611.982478</td>\n",
              "      <td>5216.677261</td>\n",
              "      <td>18.147567</td>\n",
              "      <td>-26.786605</td>\n",
              "      <td>14.934016</td>\n",
              "      <td>34.410761</td>\n",
              "      <td>-50.717285</td>\n",
              "      <td>28.213416</td>\n",
              "      <td>67.471033</td>\n",
              "      <td>-1.884373</td>\n",
              "      <td>2.855925</td>\n",
              "      <td>-1.654616</td>\n",
              "      <td>3.800648</td>\n",
              "    </tr>\n",
              "    <tr>\n",
              "      <th>5</th>\n",
              "      <td>464.683763</td>\n",
              "      <td>3621.624117</td>\n",
              "      <td>5212.527285</td>\n",
              "      <td>14.133215</td>\n",
              "      <td>-16.402537</td>\n",
              "      <td>10.511027</td>\n",
              "      <td>26.528328</td>\n",
              "      <td>-30.691578</td>\n",
              "      <td>19.640451</td>\n",
              "      <td>45.071859</td>\n",
              "      <td>-1.738103</td>\n",
              "      <td>2.113495</td>\n",
              "      <td>-1.381604</td>\n",
              "      <td>3.065402</td>\n",
              "    </tr>\n",
              "    <tr>\n",
              "      <th>6</th>\n",
              "      <td>203.102738</td>\n",
              "      <td>4356.948144</td>\n",
              "      <td>4913.453624</td>\n",
              "      <td>-6.974099</td>\n",
              "      <td>20.938065</td>\n",
              "      <td>-6.816155</td>\n",
              "      <td>-256.160011</td>\n",
              "      <td>741.973051</td>\n",
              "      <td>-296.760392</td>\n",
              "      <td>839.171430</td>\n",
              "      <td>-242.211813</td>\n",
              "      <td>700.096921</td>\n",
              "      <td>-283.128082</td>\n",
              "      <td>793.072362</td>\n",
              "    </tr>\n",
              "    <tr>\n",
              "      <th>7</th>\n",
              "      <td>170.245815</td>\n",
              "      <td>4424.548638</td>\n",
              "      <td>4886.425292</td>\n",
              "      <td>7.161226</td>\n",
              "      <td>-21.464245</td>\n",
              "      <td>8.689125</td>\n",
              "      <td>-274.881609</td>\n",
              "      <td>767.171235</td>\n",
              "      <td>-308.283444</td>\n",
              "      <td>871.292307</td>\n",
              "      <td>-289.204060</td>\n",
              "      <td>810.099725</td>\n",
              "      <td>-325.661694</td>\n",
              "      <td>919.758714</td>\n",
              "    </tr>\n",
              "    <tr>\n",
              "      <th>8</th>\n",
              "      <td>489.209281</td>\n",
              "      <td>3598.107594</td>\n",
              "      <td>5230.004006</td>\n",
              "      <td>40.928008</td>\n",
              "      <td>-41.886422</td>\n",
              "      <td>29.584822</td>\n",
              "      <td>77.848639</td>\n",
              "      <td>-79.691986</td>\n",
              "      <td>56.190967</td>\n",
              "      <td>124.774388</td>\n",
              "      <td>-4.007377</td>\n",
              "      <td>4.080859</td>\n",
              "      <td>-2.978677</td>\n",
              "      <td>6.448643</td>\n",
              "    </tr>\n",
              "    <tr>\n",
              "      <th>9</th>\n",
              "      <td>448.312245</td>\n",
              "      <td>3642.286256</td>\n",
              "      <td>5200.798845</td>\n",
              "      <td>-2.569664</td>\n",
              "      <td>4.194774</td>\n",
              "      <td>-1.360137</td>\n",
              "      <td>-6.546069</td>\n",
              "      <td>10.567872</td>\n",
              "      <td>-3.959153</td>\n",
              "      <td>13.046296</td>\n",
              "      <td>-1.406741</td>\n",
              "      <td>2.178324</td>\n",
              "      <td>-1.238879</td>\n",
              "      <td>2.873819</td>\n",
              "    </tr>\n",
              "    <tr>\n",
              "      <th>10</th>\n",
              "      <td>453.334036</td>\n",
              "      <td>3629.674656</td>\n",
              "      <td>5206.401457</td>\n",
              "      <td>1.279195</td>\n",
              "      <td>-8.751148</td>\n",
              "      <td>4.101796</td>\n",
              "      <td>2.324581</td>\n",
              "      <td>-14.989650</td>\n",
              "      <td>7.105391</td>\n",
              "      <td>16.750518</td>\n",
              "      <td>-0.233810</td>\n",
              "      <td>2.512647</td>\n",
              "      <td>-1.098200</td>\n",
              "      <td>2.752109</td>\n",
              "    </tr>\n",
              "    <tr>\n",
              "      <th>11</th>\n",
              "      <td>466.415381</td>\n",
              "      <td>3621.510145</td>\n",
              "      <td>5214.179108</td>\n",
              "      <td>16.192869</td>\n",
              "      <td>-16.524681</td>\n",
              "      <td>12.311873</td>\n",
              "      <td>30.319600</td>\n",
              "      <td>-30.927694</td>\n",
              "      <td>23.093120</td>\n",
              "      <td>49.082508</td>\n",
              "      <td>-2.066139</td>\n",
              "      <td>2.121669</td>\n",
              "      <td>-1.530626</td>\n",
              "      <td>3.333650</td>\n",
              "    </tr>\n",
              "  </tbody>\n",
              "</table>\n",
              "</div>"
            ],
            "text/plain": [
              "    Xr без коррекции  ...  Расстояние от реал до (Ur-Δ)\n",
              "0         210.905955  ...                    864.272303\n",
              "1         453.351541  ...                      2.381799\n",
              "2         446.519832  ...                      1.418345\n",
              "3         451.047561  ...                      2.242588\n",
              "4         468.551844  ...                      3.800648\n",
              "5         464.683763  ...                      3.065402\n",
              "6         203.102738  ...                    793.072362\n",
              "7         170.245815  ...                    919.758714\n",
              "8         489.209281  ...                      6.448643\n",
              "9         448.312245  ...                      2.873819\n",
              "10        453.334036  ...                      2.752109\n",
              "11        466.415381  ...                      3.333650\n",
              "\n",
              "[12 rows x 14 columns]"
            ]
          },
          "metadata": {
            "tags": []
          },
          "execution_count": 51
        }
      ]
    }
  ]
}